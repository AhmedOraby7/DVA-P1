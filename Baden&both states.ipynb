{
 "cells": [
  {
   "cell_type": "code",
   "execution_count": 1,
   "id": "d6d47139-70ec-4764-91f7-03ae2ef376f1",
   "metadata": {},
   "outputs": [],
   "source": [
    "import pandas as pd"
   ]
  },
  {
   "cell_type": "code",
   "execution_count": 2,
   "id": "bf1fbbbb-a589-49df-a62e-eecff750b8d8",
   "metadata": {},
   "outputs": [],
   "source": [
    "import numpy as np"
   ]
  },
  {
   "cell_type": "code",
   "execution_count": 3,
   "id": "0e10ae80-2e72-4253-b31d-ec5170b2c427",
   "metadata": {},
   "outputs": [],
   "source": [
    "import matplotlib.pyplot as plt"
   ]
  },
  {
   "cell_type": "code",
   "execution_count": 4,
   "id": "c2883d85-d548-40f5-9506-62d587db9477",
   "metadata": {},
   "outputs": [],
   "source": [
    "import contextily as cx"
   ]
  },
  {
   "cell_type": "code",
   "execution_count": 5,
   "id": "acc0420b-c22f-4218-abc3-c62ad0232908",
   "metadata": {},
   "outputs": [],
   "source": [
    "import seaborn as sns"
   ]
  },
  {
   "cell_type": "code",
   "execution_count": 40,
   "id": "bd1f1f16-28f2-49d9-bede-123e569e943a",
   "metadata": {},
   "outputs": [
    {
     "name": "stderr",
     "output_type": "stream",
     "text": [
      "/opt/conda/lib/python3.9/site-packages/IPython/core/interactiveshell.py:3172: DtypeWarning: Columns (20,21,22,23,24,30,31) have mixed types.Specify dtype option on import or set low_memory=False.\n",
      "  has_raised = await self.run_ast_nodes(code_ast.body, cell_name,\n"
     ]
    }
   ],
   "source": [
    "df = pd.read_csv('finalV1.csv')"
   ]
  },
  {
   "cell_type": "code",
   "execution_count": 41,
   "id": "eba2cf36-8b4c-4c02-9379-98b23fce1f4f",
   "metadata": {},
   "outputs": [
    {
     "data": {
      "text/html": [
       "<div>\n",
       "<style scoped>\n",
       "    .dataframe tbody tr th:only-of-type {\n",
       "        vertical-align: middle;\n",
       "    }\n",
       "\n",
       "    .dataframe tbody tr th {\n",
       "        vertical-align: top;\n",
       "    }\n",
       "\n",
       "    .dataframe thead th {\n",
       "        text-align: right;\n",
       "    }\n",
       "</style>\n",
       "<table border=\"1\" class=\"dataframe\">\n",
       "  <thead>\n",
       "    <tr style=\"text-align: right;\">\n",
       "      <th></th>\n",
       "      <th>MaStR-Nr. der Einheit</th>\n",
       "      <th>Anzeige-Name der Einheit</th>\n",
       "      <th>Betriebs-Status</th>\n",
       "      <th>Energieträger</th>\n",
       "      <th>Bruttoleistung der Einheit</th>\n",
       "      <th>Nettonennleistung der Einheit</th>\n",
       "      <th>Inbetriebnahmedatum der Einheit</th>\n",
       "      <th>Registrierungsdatum der Einheit</th>\n",
       "      <th>Bundesland</th>\n",
       "      <th>Postleitzahl</th>\n",
       "      <th>...</th>\n",
       "      <th>MaStR-Nr. der Lokation</th>\n",
       "      <th>MaStR-Nr. der EEG-Anlage</th>\n",
       "      <th>EEG-Anlagenschlüssel</th>\n",
       "      <th>Inbetriebnahmedatum der EEG-Anlage</th>\n",
       "      <th>Installierte Leistung</th>\n",
       "      <th>Zuschlagnummer (EEG/KWK-Ausschreibung)</th>\n",
       "      <th>MaStR-Nr. der KWK-Anlage</th>\n",
       "      <th>Inbetriebnahmedatum der KWK-Anlage</th>\n",
       "      <th>Elektrische KWK-Leistung</th>\n",
       "      <th>Thermische Nutzleistung in kW</th>\n",
       "    </tr>\n",
       "  </thead>\n",
       "  <tbody>\n",
       "    <tr>\n",
       "      <th>0</th>\n",
       "      <td>SEE922425735582</td>\n",
       "      <td>Solaranlage</td>\n",
       "      <td>In Betrieb</td>\n",
       "      <td>Solare Strahlungsenergie</td>\n",
       "      <td>9,99</td>\n",
       "      <td>8,2</td>\n",
       "      <td>10/19/2016</td>\n",
       "      <td>2/2/2019</td>\n",
       "      <td>Bayern</td>\n",
       "      <td>92439</td>\n",
       "      <td>...</td>\n",
       "      <td>SEL922220792711</td>\n",
       "      <td>EEG932892356777</td>\n",
       "      <td>NaN</td>\n",
       "      <td>10/19/2016</td>\n",
       "      <td>9,99</td>\n",
       "      <td>NaN</td>\n",
       "      <td>NaN</td>\n",
       "      <td>NaN</td>\n",
       "      <td>NaN</td>\n",
       "      <td>NaN</td>\n",
       "    </tr>\n",
       "    <tr>\n",
       "      <th>1</th>\n",
       "      <td>SEE913667551542</td>\n",
       "      <td>PV-Anlage</td>\n",
       "      <td>In Betrieb</td>\n",
       "      <td>Solare Strahlungsenergie</td>\n",
       "      <td>6,12</td>\n",
       "      <td>6</td>\n",
       "      <td>7/11/2016</td>\n",
       "      <td>1/31/2019</td>\n",
       "      <td>Baden-Württemberg</td>\n",
       "      <td>88368</td>\n",
       "      <td>...</td>\n",
       "      <td>SEL961238445707</td>\n",
       "      <td>EEG959469675345</td>\n",
       "      <td>E10843010000000000000087353900001</td>\n",
       "      <td>7/11/2016</td>\n",
       "      <td>6,12</td>\n",
       "      <td>NaN</td>\n",
       "      <td>NaN</td>\n",
       "      <td>NaN</td>\n",
       "      <td>NaN</td>\n",
       "      <td>NaN</td>\n",
       "    </tr>\n",
       "    <tr>\n",
       "      <th>2</th>\n",
       "      <td>SEE962350176159</td>\n",
       "      <td>Hausdach</td>\n",
       "      <td>In Betrieb</td>\n",
       "      <td>Solare Strahlungsenergie</td>\n",
       "      <td>4,16</td>\n",
       "      <td>3</td>\n",
       "      <td>7/19/2016</td>\n",
       "      <td>1/31/2019</td>\n",
       "      <td>Baden-Württemberg</td>\n",
       "      <td>77743</td>\n",
       "      <td>...</td>\n",
       "      <td>SEL995119103929</td>\n",
       "      <td>EEG951922168470</td>\n",
       "      <td>E11904010292008219006000S00100001</td>\n",
       "      <td>7/19/2016</td>\n",
       "      <td>4,16</td>\n",
       "      <td>NaN</td>\n",
       "      <td>NaN</td>\n",
       "      <td>NaN</td>\n",
       "      <td>NaN</td>\n",
       "      <td>NaN</td>\n",
       "    </tr>\n",
       "    <tr>\n",
       "      <th>3</th>\n",
       "      <td>SEE983966266850</td>\n",
       "      <td>MRKDach</td>\n",
       "      <td>In Betrieb</td>\n",
       "      <td>Solare Strahlungsenergie</td>\n",
       "      <td>15,08</td>\n",
       "      <td>15</td>\n",
       "      <td>8/5/2016</td>\n",
       "      <td>2/9/2019</td>\n",
       "      <td>Baden-Württemberg</td>\n",
       "      <td>75378</td>\n",
       "      <td>...</td>\n",
       "      <td>SEL966967654833</td>\n",
       "      <td>EEG904474851208</td>\n",
       "      <td>E10843010000000000000087766600001</td>\n",
       "      <td>8/5/2016</td>\n",
       "      <td>15,08</td>\n",
       "      <td>NaN</td>\n",
       "      <td>NaN</td>\n",
       "      <td>NaN</td>\n",
       "      <td>NaN</td>\n",
       "      <td>NaN</td>\n",
       "    </tr>\n",
       "    <tr>\n",
       "      <th>4</th>\n",
       "      <td>SEE914434267031</td>\n",
       "      <td>Stromspeicher</td>\n",
       "      <td>In Betrieb</td>\n",
       "      <td>Speicher</td>\n",
       "      <td>2</td>\n",
       "      <td>2</td>\n",
       "      <td>4/13/2016</td>\n",
       "      <td>2/9/2019</td>\n",
       "      <td>Bayern</td>\n",
       "      <td>91629</td>\n",
       "      <td>...</td>\n",
       "      <td>SEL985610916852</td>\n",
       "      <td>EEG985648910952</td>\n",
       "      <td>NaN</td>\n",
       "      <td>4/13/2016</td>\n",
       "      <td>NaN</td>\n",
       "      <td>NaN</td>\n",
       "      <td>NaN</td>\n",
       "      <td>NaN</td>\n",
       "      <td>NaN</td>\n",
       "      <td>NaN</td>\n",
       "    </tr>\n",
       "  </tbody>\n",
       "</table>\n",
       "<p>5 rows × 50 columns</p>\n",
       "</div>"
      ],
      "text/plain": [
       "  MaStR-Nr. der Einheit Anzeige-Name der Einheit Betriebs-Status  \\\n",
       "0       SEE922425735582              Solaranlage      In Betrieb   \n",
       "1       SEE913667551542                PV-Anlage      In Betrieb   \n",
       "2       SEE962350176159                 Hausdach      In Betrieb   \n",
       "3       SEE983966266850                  MRKDach      In Betrieb   \n",
       "4       SEE914434267031            Stromspeicher      In Betrieb   \n",
       "\n",
       "              Energieträger Bruttoleistung der Einheit  \\\n",
       "0  Solare Strahlungsenergie                       9,99   \n",
       "1  Solare Strahlungsenergie                       6,12   \n",
       "2  Solare Strahlungsenergie                       4,16   \n",
       "3  Solare Strahlungsenergie                      15,08   \n",
       "4                  Speicher                          2   \n",
       "\n",
       "  Nettonennleistung der Einheit Inbetriebnahmedatum der Einheit  \\\n",
       "0                           8,2                      10/19/2016   \n",
       "1                             6                       7/11/2016   \n",
       "2                             3                       7/19/2016   \n",
       "3                            15                        8/5/2016   \n",
       "4                             2                       4/13/2016   \n",
       "\n",
       "  Registrierungsdatum der Einheit         Bundesland  Postleitzahl  ...  \\\n",
       "0                        2/2/2019             Bayern         92439  ...   \n",
       "1                       1/31/2019  Baden-Württemberg         88368  ...   \n",
       "2                       1/31/2019  Baden-Württemberg         77743  ...   \n",
       "3                        2/9/2019  Baden-Württemberg         75378  ...   \n",
       "4                        2/9/2019             Bayern         91629  ...   \n",
       "\n",
       "  MaStR-Nr. der Lokation MaStR-Nr. der EEG-Anlage  \\\n",
       "0        SEL922220792711          EEG932892356777   \n",
       "1        SEL961238445707          EEG959469675345   \n",
       "2        SEL995119103929          EEG951922168470   \n",
       "3        SEL966967654833          EEG904474851208   \n",
       "4        SEL985610916852          EEG985648910952   \n",
       "\n",
       "                EEG-Anlagenschlüssel Inbetriebnahmedatum der EEG-Anlage  \\\n",
       "0                                NaN                         10/19/2016   \n",
       "1  E10843010000000000000087353900001                          7/11/2016   \n",
       "2  E11904010292008219006000S00100001                          7/19/2016   \n",
       "3  E10843010000000000000087766600001                           8/5/2016   \n",
       "4                                NaN                          4/13/2016   \n",
       "\n",
       "  Installierte Leistung  Zuschlagnummer (EEG/KWK-Ausschreibung)  \\\n",
       "0                  9,99                                     NaN   \n",
       "1                  6,12                                     NaN   \n",
       "2                  4,16                                     NaN   \n",
       "3                 15,08                                     NaN   \n",
       "4                   NaN                                     NaN   \n",
       "\n",
       "  MaStR-Nr. der KWK-Anlage Inbetriebnahmedatum der KWK-Anlage  \\\n",
       "0                      NaN                                NaN   \n",
       "1                      NaN                                NaN   \n",
       "2                      NaN                                NaN   \n",
       "3                      NaN                                NaN   \n",
       "4                      NaN                                NaN   \n",
       "\n",
       "   Elektrische KWK-Leistung Thermische Nutzleistung in kW  \n",
       "0                       NaN                           NaN  \n",
       "1                       NaN                           NaN  \n",
       "2                       NaN                           NaN  \n",
       "3                       NaN                           NaN  \n",
       "4                       NaN                           NaN  \n",
       "\n",
       "[5 rows x 50 columns]"
      ]
     },
     "execution_count": 41,
     "metadata": {},
     "output_type": "execute_result"
    }
   ],
   "source": [
    "df.head()"
   ]
  },
  {
   "cell_type": "code",
   "execution_count": 9,
   "id": "92773f1b-44f3-4b5f-b9c6-c7ea139b7238",
   "metadata": {},
   "outputs": [
    {
     "data": {
      "text/plain": [
       "Index(['MaStR-Nr. der Einheit', 'Anzeige-Name der Einheit', 'Betriebs-Status',\n",
       "       'Energieträger', 'Bruttoleistung der Einheit',\n",
       "       'Nettonennleistung der Einheit', 'Inbetriebnahmedatum der Einheit',\n",
       "       'Registrierungsdatum der Einheit', 'Bundesland', 'Postleitzahl', 'Ort',\n",
       "       'Straße', 'Hausnummer', 'Gemarkung', 'Flurstück', 'Gemeindeschlüssel',\n",
       "       'Koordinate: Breitengrad (WGS84)', 'Koordinate: Längengrad (WGS84)',\n",
       "       'Anzahl der Solar-Module', 'Hauptausrichtung der Solar-Module',\n",
       "       'Name des Windparks', 'Nabenhöhe der Windenergieanlage',\n",
       "       'Rotordurchmesser der Windenergieanlage',\n",
       "       'Hersteller der Windenergieanlage', 'Typenbezeichnung',\n",
       "       'Hauptbrennstoff der Einheit', 'Nutzbare Speicherkapazität in kWh',\n",
       "       'Technologie der Stromerzeugung', 'Lage der Einheit',\n",
       "       'Letzte Aktualisierung', 'Datum der endgültigen Stilllegung',\n",
       "       'Datum der geplanten Inbetriebnahme',\n",
       "       'Name des Anlagenbetreibers (nur Org.)',\n",
       "       '\\tMaStR-Nr. des Anlagenbetreibers',\n",
       "       'Volleinspeisung oder Teileinspeisung', 'MaStR-Nr. der Genehmigung',\n",
       "       'Name des Anschluss-Netzbetreibers',\n",
       "       'MaStR-Nr. des Anschluss-Netzbetreibers', 'Netzbetreiberprüfung',\n",
       "       'Spannungsebene', 'MaStR-Nr. der Lokation', 'MaStR-Nr. der EEG-Anlage',\n",
       "       'EEG-Anlagenschlüssel', 'Inbetriebnahmedatum der EEG-Anlage',\n",
       "       'Installierte Leistung', 'Zuschlagnummer (EEG/KWK-Ausschreibung)',\n",
       "       'MaStR-Nr. der KWK-Anlage', 'Inbetriebnahmedatum der KWK-Anlage',\n",
       "       'Elektrische KWK-Leistung', 'Thermische Nutzleistung in kW'],\n",
       "      dtype='object')"
      ]
     },
     "execution_count": 9,
     "metadata": {},
     "output_type": "execute_result"
    }
   ],
   "source": [
    "df.columns"
   ]
  },
  {
   "cell_type": "code",
   "execution_count": 46,
   "id": "950b630f-b376-4ad2-abf7-877e7b6c541b",
   "metadata": {},
   "outputs": [],
   "source": [
    "def convert_column_data_type(dataframe, column_type, column_names=[]):\n",
    "    for column in column_names: \n",
    "        dataframe[column] = dataframe[column].str.replace(',','.').astype(column_type)\n",
    "    return dataframe"
   ]
  },
  {
   "cell_type": "code",
   "execution_count": 47,
   "id": "63554fa9-2c73-4379-84f4-ad2e24879ebb",
   "metadata": {},
   "outputs": [],
   "source": [
    "def get_columns_from_df(dataframe, column_names=[]):\n",
    "    return dataframe[column_names]"
   ]
  },
  {
   "cell_type": "code",
   "execution_count": 48,
   "id": "d3824ff8-787f-498b-893c-0b4f3f36c055",
   "metadata": {},
   "outputs": [],
   "source": [
    "columns_to_convert = [\"Bruttoleistung der Einheit\", \"Nettonennleistung der Einheit\"]\n",
    "df = convert_column_data_type(df, \"float\", columns_to_convert)"
   ]
  },
  {
   "cell_type": "code",
   "execution_count": 49,
   "id": "d9ebf29e-d596-4c93-8f0e-d2bd6db116ef",
   "metadata": {},
   "outputs": [],
   "source": [
    "df_Baden= df[df['Bundesland']=='Baden-Württemberg']"
   ]
  },
  {
   "cell_type": "code",
   "execution_count": 43,
   "id": "3cde2725-1c92-4a8d-b96c-3e1fdceefdf6",
   "metadata": {},
   "outputs": [
    {
     "data": {
      "text/plain": [
       "(329011, 50)"
      ]
     },
     "execution_count": 43,
     "metadata": {},
     "output_type": "execute_result"
    }
   ],
   "source": [
    "df_Baden.shape"
   ]
  },
  {
   "cell_type": "code",
   "execution_count": 34,
   "id": "97c352fa-9072-406e-993f-d4fdce204ae3",
   "metadata": {},
   "outputs": [
    {
     "data": {
      "text/plain": [
       "(799137, 50)"
      ]
     },
     "execution_count": 34,
     "metadata": {},
     "output_type": "execute_result"
    }
   ],
   "source": [
    "df.shape"
   ]
  },
  {
   "cell_type": "code",
   "execution_count": 44,
   "id": "f9b339e7-f2cb-4ecd-b734-4400e39cc04a",
   "metadata": {},
   "outputs": [
    {
     "data": {
      "text/html": [
       "<div>\n",
       "<style scoped>\n",
       "    .dataframe tbody tr th:only-of-type {\n",
       "        vertical-align: middle;\n",
       "    }\n",
       "\n",
       "    .dataframe tbody tr th {\n",
       "        vertical-align: top;\n",
       "    }\n",
       "\n",
       "    .dataframe thead th {\n",
       "        text-align: right;\n",
       "    }\n",
       "</style>\n",
       "<table border=\"1\" class=\"dataframe\">\n",
       "  <thead>\n",
       "    <tr style=\"text-align: right;\">\n",
       "      <th></th>\n",
       "      <th>MaStR-Nr. der Einheit</th>\n",
       "      <th>Anzeige-Name der Einheit</th>\n",
       "      <th>Betriebs-Status</th>\n",
       "      <th>Energieträger</th>\n",
       "      <th>Bruttoleistung der Einheit</th>\n",
       "      <th>Nettonennleistung der Einheit</th>\n",
       "      <th>Inbetriebnahmedatum der Einheit</th>\n",
       "      <th>Registrierungsdatum der Einheit</th>\n",
       "      <th>Bundesland</th>\n",
       "      <th>Postleitzahl</th>\n",
       "      <th>...</th>\n",
       "      <th>MaStR-Nr. der Lokation</th>\n",
       "      <th>MaStR-Nr. der EEG-Anlage</th>\n",
       "      <th>EEG-Anlagenschlüssel</th>\n",
       "      <th>Inbetriebnahmedatum der EEG-Anlage</th>\n",
       "      <th>Installierte Leistung</th>\n",
       "      <th>Zuschlagnummer (EEG/KWK-Ausschreibung)</th>\n",
       "      <th>MaStR-Nr. der KWK-Anlage</th>\n",
       "      <th>Inbetriebnahmedatum der KWK-Anlage</th>\n",
       "      <th>Elektrische KWK-Leistung</th>\n",
       "      <th>Thermische Nutzleistung in kW</th>\n",
       "    </tr>\n",
       "  </thead>\n",
       "  <tbody>\n",
       "    <tr>\n",
       "      <th>1</th>\n",
       "      <td>SEE913667551542</td>\n",
       "      <td>PV-Anlage</td>\n",
       "      <td>In Betrieb</td>\n",
       "      <td>Solare Strahlungsenergie</td>\n",
       "      <td>6,12</td>\n",
       "      <td>6</td>\n",
       "      <td>7/11/2016</td>\n",
       "      <td>1/31/2019</td>\n",
       "      <td>Baden-Württemberg</td>\n",
       "      <td>88368</td>\n",
       "      <td>...</td>\n",
       "      <td>SEL961238445707</td>\n",
       "      <td>EEG959469675345</td>\n",
       "      <td>E10843010000000000000087353900001</td>\n",
       "      <td>7/11/2016</td>\n",
       "      <td>6,12</td>\n",
       "      <td>NaN</td>\n",
       "      <td>NaN</td>\n",
       "      <td>NaN</td>\n",
       "      <td>NaN</td>\n",
       "      <td>NaN</td>\n",
       "    </tr>\n",
       "    <tr>\n",
       "      <th>2</th>\n",
       "      <td>SEE962350176159</td>\n",
       "      <td>Hausdach</td>\n",
       "      <td>In Betrieb</td>\n",
       "      <td>Solare Strahlungsenergie</td>\n",
       "      <td>4,16</td>\n",
       "      <td>3</td>\n",
       "      <td>7/19/2016</td>\n",
       "      <td>1/31/2019</td>\n",
       "      <td>Baden-Württemberg</td>\n",
       "      <td>77743</td>\n",
       "      <td>...</td>\n",
       "      <td>SEL995119103929</td>\n",
       "      <td>EEG951922168470</td>\n",
       "      <td>E11904010292008219006000S00100001</td>\n",
       "      <td>7/19/2016</td>\n",
       "      <td>4,16</td>\n",
       "      <td>NaN</td>\n",
       "      <td>NaN</td>\n",
       "      <td>NaN</td>\n",
       "      <td>NaN</td>\n",
       "      <td>NaN</td>\n",
       "    </tr>\n",
       "    <tr>\n",
       "      <th>3</th>\n",
       "      <td>SEE983966266850</td>\n",
       "      <td>MRKDach</td>\n",
       "      <td>In Betrieb</td>\n",
       "      <td>Solare Strahlungsenergie</td>\n",
       "      <td>15,08</td>\n",
       "      <td>15</td>\n",
       "      <td>8/5/2016</td>\n",
       "      <td>2/9/2019</td>\n",
       "      <td>Baden-Württemberg</td>\n",
       "      <td>75378</td>\n",
       "      <td>...</td>\n",
       "      <td>SEL966967654833</td>\n",
       "      <td>EEG904474851208</td>\n",
       "      <td>E10843010000000000000087766600001</td>\n",
       "      <td>8/5/2016</td>\n",
       "      <td>15,08</td>\n",
       "      <td>NaN</td>\n",
       "      <td>NaN</td>\n",
       "      <td>NaN</td>\n",
       "      <td>NaN</td>\n",
       "      <td>NaN</td>\n",
       "    </tr>\n",
       "    <tr>\n",
       "      <th>6</th>\n",
       "      <td>SEE945932146603</td>\n",
       "      <td>PV-Anlage</td>\n",
       "      <td>In Betrieb</td>\n",
       "      <td>Solare Strahlungsenergie</td>\n",
       "      <td>8,4</td>\n",
       "      <td>8,2</td>\n",
       "      <td>4/29/2016</td>\n",
       "      <td>2/1/2019</td>\n",
       "      <td>Baden-Württemberg</td>\n",
       "      <td>74238</td>\n",
       "      <td>...</td>\n",
       "      <td>SEL978051880967</td>\n",
       "      <td>EEG976776380601</td>\n",
       "      <td>E10843010000000000000086852300001</td>\n",
       "      <td>4/29/2016</td>\n",
       "      <td>8,4</td>\n",
       "      <td>NaN</td>\n",
       "      <td>NaN</td>\n",
       "      <td>NaN</td>\n",
       "      <td>NaN</td>\n",
       "      <td>NaN</td>\n",
       "    </tr>\n",
       "    <tr>\n",
       "      <th>9</th>\n",
       "      <td>SEE952049418868</td>\n",
       "      <td>Portobello 1</td>\n",
       "      <td>In Betrieb</td>\n",
       "      <td>Solare Strahlungsenergie</td>\n",
       "      <td>5,6</td>\n",
       "      <td>5,6</td>\n",
       "      <td>6/24/2016</td>\n",
       "      <td>1/31/2019</td>\n",
       "      <td>Baden-Württemberg</td>\n",
       "      <td>88079</td>\n",
       "      <td>...</td>\n",
       "      <td>SEL963231935995</td>\n",
       "      <td>EEG903461549630</td>\n",
       "      <td>E1327101000EE000033881901RA000000</td>\n",
       "      <td>6/24/2016</td>\n",
       "      <td>5,6</td>\n",
       "      <td>NaN</td>\n",
       "      <td>NaN</td>\n",
       "      <td>NaN</td>\n",
       "      <td>NaN</td>\n",
       "      <td>NaN</td>\n",
       "    </tr>\n",
       "  </tbody>\n",
       "</table>\n",
       "<p>5 rows × 50 columns</p>\n",
       "</div>"
      ],
      "text/plain": [
       "  MaStR-Nr. der Einheit Anzeige-Name der Einheit Betriebs-Status  \\\n",
       "1       SEE913667551542                PV-Anlage      In Betrieb   \n",
       "2       SEE962350176159                 Hausdach      In Betrieb   \n",
       "3       SEE983966266850                  MRKDach      In Betrieb   \n",
       "6       SEE945932146603                PV-Anlage      In Betrieb   \n",
       "9       SEE952049418868             Portobello 1      In Betrieb   \n",
       "\n",
       "              Energieträger Bruttoleistung der Einheit  \\\n",
       "1  Solare Strahlungsenergie                       6,12   \n",
       "2  Solare Strahlungsenergie                       4,16   \n",
       "3  Solare Strahlungsenergie                      15,08   \n",
       "6  Solare Strahlungsenergie                        8,4   \n",
       "9  Solare Strahlungsenergie                        5,6   \n",
       "\n",
       "  Nettonennleistung der Einheit Inbetriebnahmedatum der Einheit  \\\n",
       "1                             6                       7/11/2016   \n",
       "2                             3                       7/19/2016   \n",
       "3                            15                        8/5/2016   \n",
       "6                           8,2                       4/29/2016   \n",
       "9                           5,6                       6/24/2016   \n",
       "\n",
       "  Registrierungsdatum der Einheit         Bundesland  Postleitzahl  ...  \\\n",
       "1                       1/31/2019  Baden-Württemberg         88368  ...   \n",
       "2                       1/31/2019  Baden-Württemberg         77743  ...   \n",
       "3                        2/9/2019  Baden-Württemberg         75378  ...   \n",
       "6                        2/1/2019  Baden-Württemberg         74238  ...   \n",
       "9                       1/31/2019  Baden-Württemberg         88079  ...   \n",
       "\n",
       "  MaStR-Nr. der Lokation MaStR-Nr. der EEG-Anlage  \\\n",
       "1        SEL961238445707          EEG959469675345   \n",
       "2        SEL995119103929          EEG951922168470   \n",
       "3        SEL966967654833          EEG904474851208   \n",
       "6        SEL978051880967          EEG976776380601   \n",
       "9        SEL963231935995          EEG903461549630   \n",
       "\n",
       "                EEG-Anlagenschlüssel Inbetriebnahmedatum der EEG-Anlage  \\\n",
       "1  E10843010000000000000087353900001                          7/11/2016   \n",
       "2  E11904010292008219006000S00100001                          7/19/2016   \n",
       "3  E10843010000000000000087766600001                           8/5/2016   \n",
       "6  E10843010000000000000086852300001                          4/29/2016   \n",
       "9  E1327101000EE000033881901RA000000                          6/24/2016   \n",
       "\n",
       "  Installierte Leistung  Zuschlagnummer (EEG/KWK-Ausschreibung)  \\\n",
       "1                  6,12                                     NaN   \n",
       "2                  4,16                                     NaN   \n",
       "3                 15,08                                     NaN   \n",
       "6                   8,4                                     NaN   \n",
       "9                   5,6                                     NaN   \n",
       "\n",
       "  MaStR-Nr. der KWK-Anlage Inbetriebnahmedatum der KWK-Anlage  \\\n",
       "1                      NaN                                NaN   \n",
       "2                      NaN                                NaN   \n",
       "3                      NaN                                NaN   \n",
       "6                      NaN                                NaN   \n",
       "9                      NaN                                NaN   \n",
       "\n",
       "   Elektrische KWK-Leistung Thermische Nutzleistung in kW  \n",
       "1                       NaN                           NaN  \n",
       "2                       NaN                           NaN  \n",
       "3                       NaN                           NaN  \n",
       "6                       NaN                           NaN  \n",
       "9                       NaN                           NaN  \n",
       "\n",
       "[5 rows x 50 columns]"
      ]
     },
     "execution_count": 44,
     "metadata": {},
     "output_type": "execute_result"
    }
   ],
   "source": [
    "df_Baden.head()"
   ]
  },
  {
   "cell_type": "markdown",
   "id": "26b4cf1c-ff5f-4603-9a1f-c88e344bd5f3",
   "metadata": {},
   "source": [
    "### Netto & Brutto- Ort (Baden & Bayern)"
   ]
  },
  {
   "cell_type": "code",
   "execution_count": 50,
   "id": "6ca0cfd8-76fe-47b5-abe9-37b30f58ca52",
   "metadata": {},
   "outputs": [
    {
     "data": {
      "text/html": [
       "<div>\n",
       "<style scoped>\n",
       "    .dataframe tbody tr th:only-of-type {\n",
       "        vertical-align: middle;\n",
       "    }\n",
       "\n",
       "    .dataframe tbody tr th {\n",
       "        vertical-align: top;\n",
       "    }\n",
       "\n",
       "    .dataframe thead th {\n",
       "        text-align: right;\n",
       "    }\n",
       "</style>\n",
       "<table border=\"1\" class=\"dataframe\">\n",
       "  <thead>\n",
       "    <tr style=\"text-align: right;\">\n",
       "      <th></th>\n",
       "      <th>Ort</th>\n",
       "      <th>Nettonennleistung der Einheit</th>\n",
       "    </tr>\n",
       "  </thead>\n",
       "  <tbody>\n",
       "    <tr>\n",
       "      <th>1310</th>\n",
       "      <td>Karlsruhe</td>\n",
       "      <td>969263.792</td>\n",
       "    </tr>\n",
       "    <tr>\n",
       "      <th>1594</th>\n",
       "      <td>Mannheim</td>\n",
       "      <td>939523.562</td>\n",
       "    </tr>\n",
       "    <tr>\n",
       "      <th>1759</th>\n",
       "      <td>München</td>\n",
       "      <td>278429.071</td>\n",
       "    </tr>\n",
       "    <tr>\n",
       "      <th>1066</th>\n",
       "      <td>Heidenheim</td>\n",
       "      <td>227362.792</td>\n",
       "    </tr>\n",
       "    <tr>\n",
       "      <th>2576</th>\n",
       "      <td>Stuttgart</td>\n",
       "      <td>181339.926</td>\n",
       "    </tr>\n",
       "    <tr>\n",
       "      <th>...</th>\n",
       "      <td>...</td>\n",
       "      <td>...</td>\n",
       "    </tr>\n",
       "    <tr>\n",
       "      <th>2710</th>\n",
       "      <td>Unterdielbach</td>\n",
       "      <td>4.410</td>\n",
       "    </tr>\n",
       "    <tr>\n",
       "      <th>2315</th>\n",
       "      <td>Sattlthambach</td>\n",
       "      <td>3.990</td>\n",
       "    </tr>\n",
       "    <tr>\n",
       "      <th>3056</th>\n",
       "      <td>ehingen</td>\n",
       "      <td>2.400</td>\n",
       "    </tr>\n",
       "    <tr>\n",
       "      <th>1375</th>\n",
       "      <td>Klingenmühlhöfle</td>\n",
       "      <td>2.010</td>\n",
       "    </tr>\n",
       "    <tr>\n",
       "      <th>435</th>\n",
       "      <td>Böllen</td>\n",
       "      <td>1.800</td>\n",
       "    </tr>\n",
       "  </tbody>\n",
       "</table>\n",
       "<p>3071 rows × 2 columns</p>\n",
       "</div>"
      ],
      "text/plain": [
       "                   Ort  Nettonennleistung der Einheit\n",
       "1310         Karlsruhe                     969263.792\n",
       "1594          Mannheim                     939523.562\n",
       "1759           München                     278429.071\n",
       "1066        Heidenheim                     227362.792\n",
       "2576         Stuttgart                     181339.926\n",
       "...                ...                            ...\n",
       "2710     Unterdielbach                          4.410\n",
       "2315     Sattlthambach                          3.990\n",
       "3056           ehingen                          2.400\n",
       "1375  Klingenmühlhöfle                          2.010\n",
       "435             Böllen                          1.800\n",
       "\n",
       "[3071 rows x 2 columns]"
      ]
     },
     "execution_count": 50,
     "metadata": {},
     "output_type": "execute_result"
    }
   ],
   "source": [
    "sum_netpower_for_each_ort = df.groupby([\"Ort\"])[\"Nettonennleistung der Einheit\"].sum().reset_index()\n",
    "sum_netpower_for_each_ort2=sum_netpower_for_each_ort.sort_values(by=[\"Nettonennleistung der Einheit\"], ascending=False)\n",
    "sum_netpower_for_each_ort2"
   ]
  },
  {
   "cell_type": "code",
   "execution_count": 59,
   "id": "2716f827-5a3f-40ea-9ec6-1652e2c83788",
   "metadata": {},
   "outputs": [],
   "source": [
    "sum_netpower_for_each_ort3=sum_netpower_for_each_ort2.head(10)"
   ]
  },
  {
   "cell_type": "code",
   "execution_count": 61,
   "id": "bae7b325-17b8-482d-954f-4678271ee48e",
   "metadata": {},
   "outputs": [
    {
     "name": "stderr",
     "output_type": "stream",
     "text": [
      "/tmp/ipykernel_8041/3215081378.py:2: FutureWarning: \n",
      "\n",
      "The `ci` parameter is deprecated. Use `errorbar=None` for the same effect.\n",
      "\n",
      "  sns.barplot(x='Ort', y='Nettonennleistung der Einheit', data=sum_netpower_for_each_ort3, ci=None, estimator=sum)\n"
     ]
    },
    {
     "data": {
      "image/png": "[encoded data removed]",
      "text/plain": [
       "<Figure size 720x360 with 1 Axes>"
      ]
     },
     "metadata": {
      "needs_background": "light"
     },
     "output_type": "display_data"
    }
   ],
   "source": [
    "plt.figure(figsize=(10,5))\n",
    "sns.barplot(x='Ort', y='Nettonennleistung der Einheit', data=sum_netpower_for_each_ort3, ci=None, estimator=sum)\n",
    "plt.show()"
   ]
  },
  {
   "cell_type": "code",
   "execution_count": 66,
   "id": "5c5014d2-47e1-412a-814f-f03e14948f2f",
   "metadata": {},
   "outputs": [
    {
     "data": {
      "text/html": [
       "<div>\n",
       "<style scoped>\n",
       "    .dataframe tbody tr th:only-of-type {\n",
       "        vertical-align: middle;\n",
       "    }\n",
       "\n",
       "    .dataframe tbody tr th {\n",
       "        vertical-align: top;\n",
       "    }\n",
       "\n",
       "    .dataframe thead th {\n",
       "        text-align: right;\n",
       "    }\n",
       "</style>\n",
       "<table border=\"1\" class=\"dataframe\">\n",
       "  <thead>\n",
       "    <tr style=\"text-align: right;\">\n",
       "      <th></th>\n",
       "      <th>Ort</th>\n",
       "      <th>Bruttoleistung der Einheit</th>\n",
       "    </tr>\n",
       "  </thead>\n",
       "  <tbody>\n",
       "    <tr>\n",
       "      <th>1310</th>\n",
       "      <td>Karlsruhe</td>\n",
       "      <td>1059094.779</td>\n",
       "    </tr>\n",
       "    <tr>\n",
       "      <th>1594</th>\n",
       "      <td>Mannheim</td>\n",
       "      <td>1023742.103</td>\n",
       "    </tr>\n",
       "    <tr>\n",
       "      <th>1759</th>\n",
       "      <td>München</td>\n",
       "      <td>329536.371</td>\n",
       "    </tr>\n",
       "    <tr>\n",
       "      <th>1066</th>\n",
       "      <td>Heidenheim</td>\n",
       "      <td>228759.738</td>\n",
       "    </tr>\n",
       "    <tr>\n",
       "      <th>2576</th>\n",
       "      <td>Stuttgart</td>\n",
       "      <td>190020.421</td>\n",
       "    </tr>\n",
       "    <tr>\n",
       "      <th>...</th>\n",
       "      <td>...</td>\n",
       "      <td>...</td>\n",
       "    </tr>\n",
       "    <tr>\n",
       "      <th>1070</th>\n",
       "      <td>Heiligenbruck</td>\n",
       "      <td>4.550</td>\n",
       "    </tr>\n",
       "    <tr>\n",
       "      <th>3056</th>\n",
       "      <td>ehingen</td>\n",
       "      <td>4.000</td>\n",
       "    </tr>\n",
       "    <tr>\n",
       "      <th>2315</th>\n",
       "      <td>Sattlthambach</td>\n",
       "      <td>3.990</td>\n",
       "    </tr>\n",
       "    <tr>\n",
       "      <th>1375</th>\n",
       "      <td>Klingenmühlhöfle</td>\n",
       "      <td>2.550</td>\n",
       "    </tr>\n",
       "    <tr>\n",
       "      <th>435</th>\n",
       "      <td>Böllen</td>\n",
       "      <td>1.800</td>\n",
       "    </tr>\n",
       "  </tbody>\n",
       "</table>\n",
       "<p>3071 rows × 2 columns</p>\n",
       "</div>"
      ],
      "text/plain": [
       "                   Ort  Bruttoleistung der Einheit\n",
       "1310         Karlsruhe                 1059094.779\n",
       "1594          Mannheim                 1023742.103\n",
       "1759           München                  329536.371\n",
       "1066        Heidenheim                  228759.738\n",
       "2576         Stuttgart                  190020.421\n",
       "...                ...                         ...\n",
       "1070     Heiligenbruck                       4.550\n",
       "3056           ehingen                       4.000\n",
       "2315     Sattlthambach                       3.990\n",
       "1375  Klingenmühlhöfle                       2.550\n",
       "435             Böllen                       1.800\n",
       "\n",
       "[3071 rows x 2 columns]"
      ]
     },
     "execution_count": 66,
     "metadata": {},
     "output_type": "execute_result"
    }
   ],
   "source": [
    "sum_bruttopower_for_each_ort = df.groupby([\"Ort\"])[\"Bruttoleistung der Einheit\"].sum().reset_index()\n",
    "sum_bruttopower_for_each_ort2=sum_bruttopower_for_each_ort.sort_values(by=[\"Bruttoleistung der Einheit\"], ascending=False)\n",
    "sum_bruttopower_for_each_ort2"
   ]
  },
  {
   "cell_type": "code",
   "execution_count": 67,
   "id": "78e2aedd-9400-46e8-a726-ccb7feb8fabd",
   "metadata": {},
   "outputs": [],
   "source": [
    "sum_bruttopower_for_each_ort3=sum_bruttopower_for_each_ort2.head(10)"
   ]
  },
  {
   "cell_type": "code",
   "execution_count": 69,
   "id": "11b9a77a-16a8-4347-8983-7d5085dee622",
   "metadata": {},
   "outputs": [
    {
     "name": "stderr",
     "output_type": "stream",
     "text": [
      "/tmp/ipykernel_8041/3052646941.py:2: FutureWarning: \n",
      "\n",
      "The `ci` parameter is deprecated. Use `errorbar=None` for the same effect.\n",
      "\n",
      "  sns.barplot(x='Ort', y='Bruttoleistung der Einheit', data=sum_bruttopower_for_each_ort3, ci=None, estimator=sum)\n"
     ]
    },
    {
     "data": {
      "image/png": "[encoded data removed]",
      "text/plain": [
       "<Figure size 720x360 with 1 Axes>"
      ]
     },
     "metadata": {
      "needs_background": "light"
     },
     "output_type": "display_data"
    }
   ],
   "source": [
    "plt.figure(figsize=(10,5))\n",
    "sns.barplot(x='Ort', y='Bruttoleistung der Einheit', data=sum_bruttopower_for_each_ort3, ci=None, estimator=sum)\n",
    "plt.show()"
   ]
  },
  {
   "cell_type": "markdown",
   "id": "3f3145b6-d633-4120-af0d-eb05b803fca0",
   "metadata": {},
   "source": [
    "### Netto & Brutto-ort (Baden)"
   ]
  },
  {
   "cell_type": "code",
   "execution_count": 70,
   "id": "513e98a9-ad7c-4d53-a1e6-512bf9d833de",
   "metadata": {},
   "outputs": [
    {
     "data": {
      "text/html": [
       "<div>\n",
       "<style scoped>\n",
       "    .dataframe tbody tr th:only-of-type {\n",
       "        vertical-align: middle;\n",
       "    }\n",
       "\n",
       "    .dataframe tbody tr th {\n",
       "        vertical-align: top;\n",
       "    }\n",
       "\n",
       "    .dataframe thead th {\n",
       "        text-align: right;\n",
       "    }\n",
       "</style>\n",
       "<table border=\"1\" class=\"dataframe\">\n",
       "  <thead>\n",
       "    <tr style=\"text-align: right;\">\n",
       "      <th></th>\n",
       "      <th>Ort</th>\n",
       "      <th>Nettonennleistung der Einheit</th>\n",
       "    </tr>\n",
       "  </thead>\n",
       "  <tbody>\n",
       "    <tr>\n",
       "      <th>512</th>\n",
       "      <td>Karlsruhe</td>\n",
       "      <td>969263.792</td>\n",
       "    </tr>\n",
       "    <tr>\n",
       "      <th>616</th>\n",
       "      <td>Mannheim</td>\n",
       "      <td>939523.562</td>\n",
       "    </tr>\n",
       "    <tr>\n",
       "      <th>416</th>\n",
       "      <td>Heidenheim</td>\n",
       "      <td>222031.937</td>\n",
       "    </tr>\n",
       "    <tr>\n",
       "      <th>947</th>\n",
       "      <td>Stuttgart</td>\n",
       "      <td>181339.926</td>\n",
       "    </tr>\n",
       "    <tr>\n",
       "      <th>1</th>\n",
       "      <td>Aalen</td>\n",
       "      <td>137291.646</td>\n",
       "    </tr>\n",
       "    <tr>\n",
       "      <th>...</th>\n",
       "      <td>...</td>\n",
       "      <td>...</td>\n",
       "    </tr>\n",
       "    <tr>\n",
       "      <th>419</th>\n",
       "      <td>Heiligenbruck</td>\n",
       "      <td>4.500</td>\n",
       "    </tr>\n",
       "    <tr>\n",
       "      <th>987</th>\n",
       "      <td>Unterdielbach</td>\n",
       "      <td>4.410</td>\n",
       "    </tr>\n",
       "    <tr>\n",
       "      <th>1106</th>\n",
       "      <td>ehingen</td>\n",
       "      <td>2.400</td>\n",
       "    </tr>\n",
       "    <tr>\n",
       "      <th>529</th>\n",
       "      <td>Klingenmühlhöfle</td>\n",
       "      <td>2.010</td>\n",
       "    </tr>\n",
       "    <tr>\n",
       "      <th>174</th>\n",
       "      <td>Böllen</td>\n",
       "      <td>1.800</td>\n",
       "    </tr>\n",
       "  </tbody>\n",
       "</table>\n",
       "<p>1117 rows × 2 columns</p>\n",
       "</div>"
      ],
      "text/plain": [
       "                   Ort  Nettonennleistung der Einheit\n",
       "512          Karlsruhe                     969263.792\n",
       "616           Mannheim                     939523.562\n",
       "416         Heidenheim                     222031.937\n",
       "947          Stuttgart                     181339.926\n",
       "1                Aalen                     137291.646\n",
       "...                ...                            ...\n",
       "419      Heiligenbruck                          4.500\n",
       "987      Unterdielbach                          4.410\n",
       "1106           ehingen                          2.400\n",
       "529   Klingenmühlhöfle                          2.010\n",
       "174             Böllen                          1.800\n",
       "\n",
       "[1117 rows x 2 columns]"
      ]
     },
     "execution_count": 70,
     "metadata": {},
     "output_type": "execute_result"
    }
   ],
   "source": [
    "sum_netpower_for_each_ort_Baden = df_Baden.groupby([\"Ort\"])[\"Nettonennleistung der Einheit\"].sum().reset_index()\n",
    "sum_netpower_for_each_ort_Baden2=sum_netpower_for_each_ort_Baden.sort_values(by=[\"Nettonennleistung der Einheit\"], ascending=False)\n",
    "sum_netpower_for_each_ort_Baden2"
   ]
  },
  {
   "cell_type": "code",
   "execution_count": 71,
   "id": "1fdf7693-5b0f-456d-83cd-14d5cd9342f3",
   "metadata": {},
   "outputs": [],
   "source": [
    "sum_netpower_for_each_ort_Baden3=sum_netpower_for_each_ort_Baden2.head(10)"
   ]
  },
  {
   "cell_type": "code",
   "execution_count": 75,
   "id": "c9af70e9-1bd0-4826-a825-4bd6923ffe05",
   "metadata": {},
   "outputs": [
    {
     "name": "stderr",
     "output_type": "stream",
     "text": [
      "/tmp/ipykernel_8041/294269182.py:2: FutureWarning: \n",
      "\n",
      "The `ci` parameter is deprecated. Use `errorbar=None` for the same effect.\n",
      "\n",
      "  sns.barplot(x='Ort', y='Nettonennleistung der Einheit', data=sum_netpower_for_each_ort_Baden3, ci=None, estimator=sum)\n"
     ]
    },
    {
     "data": {
      "image/png": "[encoded data removed]",
      "text/plain": [
       "<Figure size 864x360 with 1 Axes>"
      ]
     },
     "metadata": {
      "needs_background": "light"
     },
     "output_type": "display_data"
    }
   ],
   "source": [
    "plt.figure(figsize=(12,5))\n",
    "sns.barplot(x='Ort', y='Nettonennleistung der Einheit', data=sum_netpower_for_each_ort_Baden3, ci=None, estimator=sum)\n",
    "plt.show()"
   ]
  },
  {
   "cell_type": "code",
   "execution_count": 76,
   "id": "875cd171-694e-4be0-a8ed-18809a4d0ae3",
   "metadata": {},
   "outputs": [
    {
     "data": {
      "text/html": [
       "<div>\n",
       "<style scoped>\n",
       "    .dataframe tbody tr th:only-of-type {\n",
       "        vertical-align: middle;\n",
       "    }\n",
       "\n",
       "    .dataframe tbody tr th {\n",
       "        vertical-align: top;\n",
       "    }\n",
       "\n",
       "    .dataframe thead th {\n",
       "        text-align: right;\n",
       "    }\n",
       "</style>\n",
       "<table border=\"1\" class=\"dataframe\">\n",
       "  <thead>\n",
       "    <tr style=\"text-align: right;\">\n",
       "      <th></th>\n",
       "      <th>Ort</th>\n",
       "      <th>Bruttoleistung der Einheit</th>\n",
       "    </tr>\n",
       "  </thead>\n",
       "  <tbody>\n",
       "    <tr>\n",
       "      <th>1310</th>\n",
       "      <td>Karlsruhe</td>\n",
       "      <td>1059094.779</td>\n",
       "    </tr>\n",
       "    <tr>\n",
       "      <th>1594</th>\n",
       "      <td>Mannheim</td>\n",
       "      <td>1023742.103</td>\n",
       "    </tr>\n",
       "    <tr>\n",
       "      <th>1759</th>\n",
       "      <td>München</td>\n",
       "      <td>329536.371</td>\n",
       "    </tr>\n",
       "    <tr>\n",
       "      <th>1066</th>\n",
       "      <td>Heidenheim</td>\n",
       "      <td>228759.738</td>\n",
       "    </tr>\n",
       "    <tr>\n",
       "      <th>2576</th>\n",
       "      <td>Stuttgart</td>\n",
       "      <td>190020.421</td>\n",
       "    </tr>\n",
       "    <tr>\n",
       "      <th>...</th>\n",
       "      <td>...</td>\n",
       "      <td>...</td>\n",
       "    </tr>\n",
       "    <tr>\n",
       "      <th>1070</th>\n",
       "      <td>Heiligenbruck</td>\n",
       "      <td>4.550</td>\n",
       "    </tr>\n",
       "    <tr>\n",
       "      <th>3056</th>\n",
       "      <td>ehingen</td>\n",
       "      <td>4.000</td>\n",
       "    </tr>\n",
       "    <tr>\n",
       "      <th>2315</th>\n",
       "      <td>Sattlthambach</td>\n",
       "      <td>3.990</td>\n",
       "    </tr>\n",
       "    <tr>\n",
       "      <th>1375</th>\n",
       "      <td>Klingenmühlhöfle</td>\n",
       "      <td>2.550</td>\n",
       "    </tr>\n",
       "    <tr>\n",
       "      <th>435</th>\n",
       "      <td>Böllen</td>\n",
       "      <td>1.800</td>\n",
       "    </tr>\n",
       "  </tbody>\n",
       "</table>\n",
       "<p>3071 rows × 2 columns</p>\n",
       "</div>"
      ],
      "text/plain": [
       "                   Ort  Bruttoleistung der Einheit\n",
       "1310         Karlsruhe                 1059094.779\n",
       "1594          Mannheim                 1023742.103\n",
       "1759           München                  329536.371\n",
       "1066        Heidenheim                  228759.738\n",
       "2576         Stuttgart                  190020.421\n",
       "...                ...                         ...\n",
       "1070     Heiligenbruck                       4.550\n",
       "3056           ehingen                       4.000\n",
       "2315     Sattlthambach                       3.990\n",
       "1375  Klingenmühlhöfle                       2.550\n",
       "435             Böllen                       1.800\n",
       "\n",
       "[3071 rows x 2 columns]"
      ]
     },
     "execution_count": 76,
     "metadata": {},
     "output_type": "execute_result"
    }
   ],
   "source": [
    "sum_bruttopower_for_each_ort_Baden = df.groupby([\"Ort\"])[\"Bruttoleistung der Einheit\"].sum().reset_index()\n",
    "sum_bruttopower_for_each_ort_Baden2=sum_bruttopower_for_each_ort_Baden.sort_values(by=[\"Bruttoleistung der Einheit\"], ascending=False)\n",
    "sum_bruttopower_for_each_ort_Baden2"
   ]
  },
  {
   "cell_type": "code",
   "execution_count": 77,
   "id": "141268a9-5a8b-477a-a621-c3e1578eb7d4",
   "metadata": {},
   "outputs": [],
   "source": [
    "sum_bruttopower_for_each_ort_Baden3=sum_bruttopower_for_each_ort_Baden2.head(10)"
   ]
  },
  {
   "cell_type": "code",
   "execution_count": 78,
   "id": "d83dbadd-7c97-4695-aef4-55600ae6862e",
   "metadata": {},
   "outputs": [
    {
     "name": "stderr",
     "output_type": "stream",
     "text": [
      "/tmp/ipykernel_8041/3161801571.py:2: FutureWarning: \n",
      "\n",
      "The `ci` parameter is deprecated. Use `errorbar=None` for the same effect.\n",
      "\n",
      "  sns.barplot(x='Ort', y='Bruttoleistung der Einheit', data=sum_bruttopower_for_each_ort_Baden3, ci=None, estimator=sum)\n"
     ]
    },
    {
     "data": {
      "image/png": "[encoded data removed]",
      "text/plain": [
       "<Figure size 720x360 with 1 Axes>"
      ]
     },
     "metadata": {
      "needs_background": "light"
     },
     "output_type": "display_data"
    }
   ],
   "source": [
    "plt.figure(figsize=(10,5))\n",
    "sns.barplot(x='Ort', y='Bruttoleistung der Einheit', data=sum_bruttopower_for_each_ort_Baden3, ci=None, estimator=sum)\n",
    "plt.show()"
   ]
  },
  {
   "cell_type": "markdown",
   "id": "9ebc7492-0f38-44fd-9288-07c4b10c0329",
   "metadata": {},
   "source": [
    "### powersource-Netto (Baden & Bayern)"
   ]
  },
  {
   "cell_type": "code",
   "execution_count": 79,
   "id": "85b36238-10d7-4a59-b758-e050730e5a7c",
   "metadata": {},
   "outputs": [
    {
     "data": {
      "text/html": [
       "<div>\n",
       "<style scoped>\n",
       "    .dataframe tbody tr th:only-of-type {\n",
       "        vertical-align: middle;\n",
       "    }\n",
       "\n",
       "    .dataframe tbody tr th {\n",
       "        vertical-align: top;\n",
       "    }\n",
       "\n",
       "    .dataframe thead th {\n",
       "        text-align: right;\n",
       "    }\n",
       "</style>\n",
       "<table border=\"1\" class=\"dataframe\">\n",
       "  <thead>\n",
       "    <tr style=\"text-align: right;\">\n",
       "      <th></th>\n",
       "      <th>Energieträger</th>\n",
       "      <th>Nettonennleistung der Einheit</th>\n",
       "    </tr>\n",
       "  </thead>\n",
       "  <tbody>\n",
       "    <tr>\n",
       "      <th>8</th>\n",
       "      <td>Solare Strahlungsenergie</td>\n",
       "      <td>1.224931e+07</td>\n",
       "    </tr>\n",
       "    <tr>\n",
       "      <th>13</th>\n",
       "      <td>Wind</td>\n",
       "      <td>3.047126e+06</td>\n",
       "    </tr>\n",
       "    <tr>\n",
       "      <th>3</th>\n",
       "      <td>Erdgas</td>\n",
       "      <td>1.989578e+06</td>\n",
       "    </tr>\n",
       "    <tr>\n",
       "      <th>11</th>\n",
       "      <td>Steinkohle</td>\n",
       "      <td>1.677000e+06</td>\n",
       "    </tr>\n",
       "    <tr>\n",
       "      <th>10</th>\n",
       "      <td>Speicher</td>\n",
       "      <td>1.245932e+06</td>\n",
       "    </tr>\n",
       "    <tr>\n",
       "      <th>0</th>\n",
       "      <td>Biomasse</td>\n",
       "      <td>1.139960e+06</td>\n",
       "    </tr>\n",
       "    <tr>\n",
       "      <th>7</th>\n",
       "      <td>Mineralölprodukte</td>\n",
       "      <td>4.339885e+05</td>\n",
       "    </tr>\n",
       "    <tr>\n",
       "      <th>12</th>\n",
       "      <td>Wasser</td>\n",
       "      <td>2.591419e+05</td>\n",
       "    </tr>\n",
       "    <tr>\n",
       "      <th>15</th>\n",
       "      <td>andere Gase</td>\n",
       "      <td>6.847629e+04</td>\n",
       "    </tr>\n",
       "    <tr>\n",
       "      <th>14</th>\n",
       "      <td>Wärme</td>\n",
       "      <td>5.841721e+04</td>\n",
       "    </tr>\n",
       "    <tr>\n",
       "      <th>4</th>\n",
       "      <td>Geothermie</td>\n",
       "      <td>4.483900e+04</td>\n",
       "    </tr>\n",
       "    <tr>\n",
       "      <th>16</th>\n",
       "      <td>nicht biogener Abfall</td>\n",
       "      <td>2.190000e+04</td>\n",
       "    </tr>\n",
       "    <tr>\n",
       "      <th>6</th>\n",
       "      <td>Klärschlamm</td>\n",
       "      <td>6.188900e+03</td>\n",
       "    </tr>\n",
       "    <tr>\n",
       "      <th>9</th>\n",
       "      <td>Solarthermie</td>\n",
       "      <td>7.053000e+02</td>\n",
       "    </tr>\n",
       "    <tr>\n",
       "      <th>5</th>\n",
       "      <td>Grubengas</td>\n",
       "      <td>2.729000e+02</td>\n",
       "    </tr>\n",
       "    <tr>\n",
       "      <th>1</th>\n",
       "      <td>Druck aus Gasleitungen</td>\n",
       "      <td>2.694000e+02</td>\n",
       "    </tr>\n",
       "    <tr>\n",
       "      <th>2</th>\n",
       "      <td>Druck aus Wasserleitungen</td>\n",
       "      <td>4.790000e+01</td>\n",
       "    </tr>\n",
       "  </tbody>\n",
       "</table>\n",
       "</div>"
      ],
      "text/plain": [
       "                Energieträger  Nettonennleistung der Einheit\n",
       "8    Solare Strahlungsenergie                   1.224931e+07\n",
       "13                       Wind                   3.047126e+06\n",
       "3                      Erdgas                   1.989578e+06\n",
       "11                 Steinkohle                   1.677000e+06\n",
       "10                   Speicher                   1.245932e+06\n",
       "0                    Biomasse                   1.139960e+06\n",
       "7           Mineralölprodukte                   4.339885e+05\n",
       "12                     Wasser                   2.591419e+05\n",
       "15                andere Gase                   6.847629e+04\n",
       "14                      Wärme                   5.841721e+04\n",
       "4                  Geothermie                   4.483900e+04\n",
       "16      nicht biogener Abfall                   2.190000e+04\n",
       "6                 Klärschlamm                   6.188900e+03\n",
       "9                Solarthermie                   7.053000e+02\n",
       "5                   Grubengas                   2.729000e+02\n",
       "1      Druck aus Gasleitungen                   2.694000e+02\n",
       "2   Druck aus Wasserleitungen                   4.790000e+01"
      ]
     },
     "execution_count": 79,
     "metadata": {},
     "output_type": "execute_result"
    }
   ],
   "source": [
    "sum_power_for_each_energy = df.groupby([\"Energieträger\"])[\"Nettonennleistung der Einheit\"].sum().reset_index()\n",
    "sum_power_for_each_energy2=sum_power_for_each_energy.sort_values(by=[\"Nettonennleistung der Einheit\"], ascending=False)\n",
    "sum_power_for_each_energy2"
   ]
  },
  {
   "cell_type": "code",
   "execution_count": 80,
   "id": "723fd75c-3487-43a4-9705-8c7277afd2eb",
   "metadata": {},
   "outputs": [],
   "source": [
    "sum_power_for_each_energy3=sum_power_for_each_energy2.head(10)"
   ]
  },
  {
   "cell_type": "code",
   "execution_count": 82,
   "id": "00eb0200-e53e-4805-a2f0-0ea6b45aa2ad",
   "metadata": {},
   "outputs": [
    {
     "name": "stderr",
     "output_type": "stream",
     "text": [
      "/tmp/ipykernel_8041/612073706.py:2: FutureWarning: \n",
      "\n",
      "The `ci` parameter is deprecated. Use `errorbar=None` for the same effect.\n",
      "\n",
      "  sns.barplot(x='Energieträger', y='Nettonennleistung der Einheit', data=sum_power_for_each_energy3, ci=None, estimator=sum)\n"
     ]
    },
    {
     "data": {
      "image/png": "[encoded data removed]",
      "text/plain": [
       "<Figure size 1440x360 with 1 Axes>"
      ]
     },
     "metadata": {
      "needs_background": "light"
     },
     "output_type": "display_data"
    }
   ],
   "source": [
    "plt.figure(figsize=(20,5))\n",
    "sns.barplot(x='Energieträger', y='Nettonennleistung der Einheit', data=sum_power_for_each_energy3, ci=None, estimator=sum)\n",
    "plt.show()"
   ]
  },
  {
   "cell_type": "markdown",
   "id": "44e13f21-770c-4533-a922-7edfd17671fe",
   "metadata": {},
   "source": [
    "### powersource-Netto (Baden)"
   ]
  },
  {
   "cell_type": "code",
   "execution_count": 83,
   "id": "9dbf9db4-29e5-411f-8ebd-7d4cc76929ee",
   "metadata": {},
   "outputs": [
    {
     "data": {
      "text/html": [
       "<div>\n",
       "<style scoped>\n",
       "    .dataframe tbody tr th:only-of-type {\n",
       "        vertical-align: middle;\n",
       "    }\n",
       "\n",
       "    .dataframe tbody tr th {\n",
       "        vertical-align: top;\n",
       "    }\n",
       "\n",
       "    .dataframe thead th {\n",
       "        text-align: right;\n",
       "    }\n",
       "</style>\n",
       "<table border=\"1\" class=\"dataframe\">\n",
       "  <thead>\n",
       "    <tr style=\"text-align: right;\">\n",
       "      <th></th>\n",
       "      <th>Energieträger</th>\n",
       "      <th>Nettonennleistung der Einheit</th>\n",
       "    </tr>\n",
       "  </thead>\n",
       "  <tbody>\n",
       "    <tr>\n",
       "      <th>8</th>\n",
       "      <td>Solare Strahlungsenergie</td>\n",
       "      <td>3.699597e+06</td>\n",
       "    </tr>\n",
       "    <tr>\n",
       "      <th>11</th>\n",
       "      <td>Steinkohle</td>\n",
       "      <td>1.677000e+06</td>\n",
       "    </tr>\n",
       "    <tr>\n",
       "      <th>13</th>\n",
       "      <td>Wind</td>\n",
       "      <td>1.242119e+06</td>\n",
       "    </tr>\n",
       "    <tr>\n",
       "      <th>3</th>\n",
       "      <td>Erdgas</td>\n",
       "      <td>9.068282e+05</td>\n",
       "    </tr>\n",
       "    <tr>\n",
       "      <th>10</th>\n",
       "      <td>Speicher</td>\n",
       "      <td>4.582786e+05</td>\n",
       "    </tr>\n",
       "    <tr>\n",
       "      <th>0</th>\n",
       "      <td>Biomasse</td>\n",
       "      <td>3.165835e+05</td>\n",
       "    </tr>\n",
       "    <tr>\n",
       "      <th>7</th>\n",
       "      <td>Mineralölprodukte</td>\n",
       "      <td>2.677710e+05</td>\n",
       "    </tr>\n",
       "    <tr>\n",
       "      <th>12</th>\n",
       "      <td>Wasser</td>\n",
       "      <td>6.328267e+04</td>\n",
       "    </tr>\n",
       "    <tr>\n",
       "      <th>14</th>\n",
       "      <td>Wärme</td>\n",
       "      <td>5.482348e+04</td>\n",
       "    </tr>\n",
       "    <tr>\n",
       "      <th>15</th>\n",
       "      <td>andere Gase</td>\n",
       "      <td>2.796021e+04</td>\n",
       "    </tr>\n",
       "    <tr>\n",
       "      <th>16</th>\n",
       "      <td>nicht biogener Abfall</td>\n",
       "      <td>1.260000e+04</td>\n",
       "    </tr>\n",
       "    <tr>\n",
       "      <th>6</th>\n",
       "      <td>Klärschlamm</td>\n",
       "      <td>3.780900e+03</td>\n",
       "    </tr>\n",
       "    <tr>\n",
       "      <th>9</th>\n",
       "      <td>Solarthermie</td>\n",
       "      <td>6.105250e+02</td>\n",
       "    </tr>\n",
       "    <tr>\n",
       "      <th>5</th>\n",
       "      <td>Grubengas</td>\n",
       "      <td>1.979000e+02</td>\n",
       "    </tr>\n",
       "    <tr>\n",
       "      <th>4</th>\n",
       "      <td>Geothermie</td>\n",
       "      <td>1.570000e+02</td>\n",
       "    </tr>\n",
       "    <tr>\n",
       "      <th>1</th>\n",
       "      <td>Druck aus Gasleitungen</td>\n",
       "      <td>1.049000e+02</td>\n",
       "    </tr>\n",
       "    <tr>\n",
       "      <th>2</th>\n",
       "      <td>Druck aus Wasserleitungen</td>\n",
       "      <td>1.800000e+01</td>\n",
       "    </tr>\n",
       "  </tbody>\n",
       "</table>\n",
       "</div>"
      ],
      "text/plain": [
       "                Energieträger  Nettonennleistung der Einheit\n",
       "8    Solare Strahlungsenergie                   3.699597e+06\n",
       "11                 Steinkohle                   1.677000e+06\n",
       "13                       Wind                   1.242119e+06\n",
       "3                      Erdgas                   9.068282e+05\n",
       "10                   Speicher                   4.582786e+05\n",
       "0                    Biomasse                   3.165835e+05\n",
       "7           Mineralölprodukte                   2.677710e+05\n",
       "12                     Wasser                   6.328267e+04\n",
       "14                      Wärme                   5.482348e+04\n",
       "15                andere Gase                   2.796021e+04\n",
       "16      nicht biogener Abfall                   1.260000e+04\n",
       "6                 Klärschlamm                   3.780900e+03\n",
       "9                Solarthermie                   6.105250e+02\n",
       "5                   Grubengas                   1.979000e+02\n",
       "4                  Geothermie                   1.570000e+02\n",
       "1      Druck aus Gasleitungen                   1.049000e+02\n",
       "2   Druck aus Wasserleitungen                   1.800000e+01"
      ]
     },
     "execution_count": 83,
     "metadata": {},
     "output_type": "execute_result"
    }
   ],
   "source": [
    "sum_power_for_each_energy_Baden = df_Baden.groupby([\"Energieträger\"])[\"Nettonennleistung der Einheit\"].sum().reset_index()\n",
    "sum_power_for_each_energy_Baden2=sum_power_for_each_energy_Baden.sort_values(by=[\"Nettonennleistung der Einheit\"], ascending=False)\n",
    "sum_power_for_each_energy_Baden2"
   ]
  },
  {
   "cell_type": "code",
   "execution_count": 84,
   "id": "ec7214c2-f5c5-429f-9c7b-0d07076cf3f5",
   "metadata": {},
   "outputs": [],
   "source": [
    "sum_power_for_each_energy_Baden3=sum_power_for_each_energy_Baden2.head(10)"
   ]
  },
  {
   "cell_type": "code",
   "execution_count": 86,
   "id": "c0e77ae0-b69b-4fab-815f-f9f076481995",
   "metadata": {},
   "outputs": [
    {
     "name": "stderr",
     "output_type": "stream",
     "text": [
      "/tmp/ipykernel_8041/2826055540.py:2: FutureWarning: \n",
      "\n",
      "The `ci` parameter is deprecated. Use `errorbar=None` for the same effect.\n",
      "\n",
      "  sns.barplot(x='Energieträger', y='Nettonennleistung der Einheit', data=sum_power_for_each_energy_Baden3, ci=None, estimator=sum)\n"
     ]
    },
    {
     "data": {
      "image/png": "[encoded data removed]",
      "text/plain": [
       "<Figure size 1440x504 with 1 Axes>"
      ]
     },
     "metadata": {
      "needs_background": "light"
     },
     "output_type": "display_data"
    }
   ],
   "source": [
    "plt.figure(figsize=(20,7))\n",
    "sns.barplot(x='Energieträger', y='Nettonennleistung der Einheit', data=sum_power_for_each_energy_Baden3, ci=None, estimator=sum)\n",
    "plt.show()"
   ]
  },
  {
   "cell_type": "code",
   "execution_count": 88,
   "id": "9ec38902-7483-4cdf-b387-a11a85b582f2",
   "metadata": {},
   "outputs": [
    {
     "data": {
      "text/plain": [
       "<AxesSubplot:ylabel='Betriebs-Status'>"
      ]
     },
     "execution_count": 88,
     "metadata": {},
     "output_type": "execute_result"
    },
    {
     "data": {
      "image/png": "[encoded data removed]",
      "text/plain": [
       "<Figure size 432x288 with 1 Axes>"
      ]
     },
     "metadata": {},
     "output_type": "display_data"
    }
   ],
   "source": [
    "df[\"Betriebs-Status\"].value_counts().plot(kind='pie', autopct='%1.0f%%', startangle=70)"
   ]
  },
  {
   "cell_type": "code",
   "execution_count": 90,
   "id": "620b77fe-fd92-42cb-bd28-27c4059b44c4",
   "metadata": {},
   "outputs": [
    {
     "data": {
      "text/plain": [
       "<AxesSubplot:>"
      ]
     },
     "execution_count": 90,
     "metadata": {},
     "output_type": "execute_result"
    },
    {
     "data": {
      "image/png": "[encoded data removed]",
      "text/plain": [
       "<Figure size 432x288 with 1 Axes>"
      ]
     },
     "metadata": {
      "needs_background": "light"
     },
     "output_type": "display_data"
    }
   ],
   "source": [
    "df_Baden[\"Betriebs-Status\"].value_counts().plot(kind='bar')"
   ]
  },
  {
   "cell_type": "code",
   "execution_count": 92,
   "id": "e2faf218-d828-43f0-993a-427a145a4268",
   "metadata": {},
   "outputs": [
    {
     "data": {
      "text/plain": [
       "array(['In Betrieb', 'Endgültig stillgelegt', 'Vorübergehend stillgelegt',\n",
       "       'In Planung'], dtype=object)"
      ]
     },
     "execution_count": 92,
     "metadata": {},
     "output_type": "execute_result"
    }
   ],
   "source": [
    "df[\"Betriebs-Status\"].unique()"
   ]
  },
  {
   "cell_type": "code",
   "execution_count": 93,
   "id": "e2621b7f-e16a-4552-8bfc-802647360d22",
   "metadata": {},
   "outputs": [
    {
     "data": {
      "text/plain": [
       "array(['Bauliche Anlagen (Hausdach, Gebäude und Fassade)', nan,\n",
       "       'Windkraft an Land', 'Bauliche Anlagen (Sonstige)', 'Freifläche',\n",
       "       'Steckerfertige Erzeugungsanlage (sog. Plug-In- oder Balkon-PV-Anlage)'],\n",
       "      dtype=object)"
      ]
     },
     "execution_count": 93,
     "metadata": {},
     "output_type": "execute_result"
    }
   ],
   "source": [
    "df['Lage der Einheit'].unique()"
   ]
  },
  {
   "cell_type": "code",
   "execution_count": 102,
   "id": "852fc4b8-3043-4157-97e7-66884650d89c",
   "metadata": {},
   "outputs": [],
   "source": [
    "df_Freifläche=df[df['Lage der Einheit']=='Freifläche']"
   ]
  },
  {
   "cell_type": "code",
   "execution_count": 96,
   "id": "1c6c6262-b2b4-44e6-a1df-124bf8b45ba8",
   "metadata": {},
   "outputs": [
    {
     "data": {
      "text/plain": [
       "(2754, 50)"
      ]
     },
     "execution_count": 96,
     "metadata": {},
     "output_type": "execute_result"
    }
   ],
   "source": [
    "df_Freifläche.shape"
   ]
  },
  {
   "cell_type": "code",
   "execution_count": 108,
   "id": "fe9f4ddf-a90e-450b-8f6c-e1c435505c51",
   "metadata": {},
   "outputs": [],
   "source": [
    "df_Solare=df_Freifläche[df_Freifläche['Energieträger']=='Solare Strahlungsenergie']"
   ]
  },
  {
   "cell_type": "code",
   "execution_count": 109,
   "id": "503d21ef-dc63-443a-9c5a-2bc4a8f953a4",
   "metadata": {},
   "outputs": [
    {
     "data": {
      "text/html": [
       "<div>\n",
       "<style scoped>\n",
       "    .dataframe tbody tr th:only-of-type {\n",
       "        vertical-align: middle;\n",
       "    }\n",
       "\n",
       "    .dataframe tbody tr th {\n",
       "        vertical-align: top;\n",
       "    }\n",
       "\n",
       "    .dataframe thead th {\n",
       "        text-align: right;\n",
       "    }\n",
       "</style>\n",
       "<table border=\"1\" class=\"dataframe\">\n",
       "  <thead>\n",
       "    <tr style=\"text-align: right;\">\n",
       "      <th></th>\n",
       "      <th>MaStR-Nr. der Einheit</th>\n",
       "      <th>Anzeige-Name der Einheit</th>\n",
       "      <th>Betriebs-Status</th>\n",
       "      <th>Energieträger</th>\n",
       "      <th>Bruttoleistung der Einheit</th>\n",
       "      <th>Nettonennleistung der Einheit</th>\n",
       "      <th>Inbetriebnahmedatum der Einheit</th>\n",
       "      <th>Registrierungsdatum der Einheit</th>\n",
       "      <th>Bundesland</th>\n",
       "      <th>Postleitzahl</th>\n",
       "      <th>...</th>\n",
       "      <th>MaStR-Nr. der Lokation</th>\n",
       "      <th>MaStR-Nr. der EEG-Anlage</th>\n",
       "      <th>EEG-Anlagenschlüssel</th>\n",
       "      <th>Inbetriebnahmedatum der EEG-Anlage</th>\n",
       "      <th>Installierte Leistung</th>\n",
       "      <th>Zuschlagnummer (EEG/KWK-Ausschreibung)</th>\n",
       "      <th>MaStR-Nr. der KWK-Anlage</th>\n",
       "      <th>Inbetriebnahmedatum der KWK-Anlage</th>\n",
       "      <th>Elektrische KWK-Leistung</th>\n",
       "      <th>Thermische Nutzleistung in kW</th>\n",
       "    </tr>\n",
       "  </thead>\n",
       "  <tbody>\n",
       "    <tr>\n",
       "      <th>659</th>\n",
       "      <td>SEE930947702111</td>\n",
       "      <td>PV Freibad Ehingen</td>\n",
       "      <td>In Betrieb</td>\n",
       "      <td>Solare Strahlungsenergie</td>\n",
       "      <td>40.56</td>\n",
       "      <td>40.0</td>\n",
       "      <td>7/7/2016</td>\n",
       "      <td>2/25/2019</td>\n",
       "      <td>Baden-Württemberg</td>\n",
       "      <td>89584</td>\n",
       "      <td>...</td>\n",
       "      <td>SEL906076820743</td>\n",
       "      <td>EEG978465477791</td>\n",
       "      <td>E108490105E0000000000000071100001</td>\n",
       "      <td>7/7/2016</td>\n",
       "      <td>40,56</td>\n",
       "      <td>NaN</td>\n",
       "      <td>NaN</td>\n",
       "      <td>NaN</td>\n",
       "      <td>NaN</td>\n",
       "      <td>NaN</td>\n",
       "    </tr>\n",
       "    <tr>\n",
       "      <th>692</th>\n",
       "      <td>SEE927388494125</td>\n",
       "      <td>9007 Solarpark Rickelshausen BA VI</td>\n",
       "      <td>In Betrieb</td>\n",
       "      <td>Solare Strahlungsenergie</td>\n",
       "      <td>2636.95</td>\n",
       "      <td>2400.0</td>\n",
       "      <td>5/31/2016</td>\n",
       "      <td>2/15/2019</td>\n",
       "      <td>Baden-Württemberg</td>\n",
       "      <td>78224</td>\n",
       "      <td>...</td>\n",
       "      <td>SEL946731324988</td>\n",
       "      <td>EEG991676277172</td>\n",
       "      <td>E10883010831573598000000000000613</td>\n",
       "      <td>5/31/2016</td>\n",
       "      <td>2636,95</td>\n",
       "      <td>NaN</td>\n",
       "      <td>NaN</td>\n",
       "      <td>NaN</td>\n",
       "      <td>NaN</td>\n",
       "      <td>NaN</td>\n",
       "    </tr>\n",
       "    <tr>\n",
       "      <th>1723</th>\n",
       "      <td>SEE998263299272</td>\n",
       "      <td>ValBR</td>\n",
       "      <td>In Betrieb</td>\n",
       "      <td>Solare Strahlungsenergie</td>\n",
       "      <td>1497.60</td>\n",
       "      <td>1380.0</td>\n",
       "      <td>8/8/2016</td>\n",
       "      <td>3/27/2019</td>\n",
       "      <td>Bayern</td>\n",
       "      <td>96476</td>\n",
       "      <td>...</td>\n",
       "      <td>SEL922723062670</td>\n",
       "      <td>EEG982010703075</td>\n",
       "      <td>E21762010005479647601000000100325</td>\n",
       "      <td>8/8/2016</td>\n",
       "      <td>1497,6</td>\n",
       "      <td>NaN</td>\n",
       "      <td>NaN</td>\n",
       "      <td>NaN</td>\n",
       "      <td>NaN</td>\n",
       "      <td>NaN</td>\n",
       "    </tr>\n",
       "    <tr>\n",
       "      <th>2376</th>\n",
       "      <td>SEE939468604218</td>\n",
       "      <td>PI Riedhöfe 1 FF</td>\n",
       "      <td>In Betrieb</td>\n",
       "      <td>Solare Strahlungsenergie</td>\n",
       "      <td>95.16</td>\n",
       "      <td>90.0</td>\n",
       "      <td>10/31/2016</td>\n",
       "      <td>5/7/2019</td>\n",
       "      <td>Baden-Württemberg</td>\n",
       "      <td>77694</td>\n",
       "      <td>...</td>\n",
       "      <td>SEL987469303029</td>\n",
       "      <td>EEG958291400330</td>\n",
       "      <td>E11904010516022680003000S00000003</td>\n",
       "      <td>10/31/2016</td>\n",
       "      <td>95,16</td>\n",
       "      <td>NaN</td>\n",
       "      <td>NaN</td>\n",
       "      <td>NaN</td>\n",
       "      <td>NaN</td>\n",
       "      <td>NaN</td>\n",
       "    </tr>\n",
       "    <tr>\n",
       "      <th>2435</th>\n",
       "      <td>SEE970015820255</td>\n",
       "      <td>PVA Gattendorf 2</td>\n",
       "      <td>In Betrieb</td>\n",
       "      <td>Solare Strahlungsenergie</td>\n",
       "      <td>3758.00</td>\n",
       "      <td>3630.0</td>\n",
       "      <td>7/14/2016</td>\n",
       "      <td>5/11/2019</td>\n",
       "      <td>Bayern</td>\n",
       "      <td>95185</td>\n",
       "      <td>...</td>\n",
       "      <td>SEL986931157221</td>\n",
       "      <td>EEG910243035779</td>\n",
       "      <td>E20241012013120131191100000000003</td>\n",
       "      <td>7/14/2016</td>\n",
       "      <td>3758</td>\n",
       "      <td>FFA15-2/101,</td>\n",
       "      <td>NaN</td>\n",
       "      <td>NaN</td>\n",
       "      <td>NaN</td>\n",
       "      <td>NaN</td>\n",
       "    </tr>\n",
       "  </tbody>\n",
       "</table>\n",
       "<p>5 rows × 50 columns</p>\n",
       "</div>"
      ],
      "text/plain": [
       "     MaStR-Nr. der Einheit            Anzeige-Name der Einheit  \\\n",
       "659        SEE930947702111                  PV Freibad Ehingen   \n",
       "692        SEE927388494125  9007 Solarpark Rickelshausen BA VI   \n",
       "1723       SEE998263299272                               ValBR   \n",
       "2376       SEE939468604218                    PI Riedhöfe 1 FF   \n",
       "2435       SEE970015820255                    PVA Gattendorf 2   \n",
       "\n",
       "     Betriebs-Status             Energieträger  Bruttoleistung der Einheit  \\\n",
       "659       In Betrieb  Solare Strahlungsenergie                       40.56   \n",
       "692       In Betrieb  Solare Strahlungsenergie                     2636.95   \n",
       "1723      In Betrieb  Solare Strahlungsenergie                     1497.60   \n",
       "2376      In Betrieb  Solare Strahlungsenergie                       95.16   \n",
       "2435      In Betrieb  Solare Strahlungsenergie                     3758.00   \n",
       "\n",
       "      Nettonennleistung der Einheit Inbetriebnahmedatum der Einheit  \\\n",
       "659                            40.0                        7/7/2016   \n",
       "692                          2400.0                       5/31/2016   \n",
       "1723                         1380.0                        8/8/2016   \n",
       "2376                           90.0                      10/31/2016   \n",
       "2435                         3630.0                       7/14/2016   \n",
       "\n",
       "     Registrierungsdatum der Einheit         Bundesland  Postleitzahl  ...  \\\n",
       "659                        2/25/2019  Baden-Württemberg         89584  ...   \n",
       "692                        2/15/2019  Baden-Württemberg         78224  ...   \n",
       "1723                       3/27/2019             Bayern         96476  ...   \n",
       "2376                        5/7/2019  Baden-Württemberg         77694  ...   \n",
       "2435                       5/11/2019             Bayern         95185  ...   \n",
       "\n",
       "     MaStR-Nr. der Lokation MaStR-Nr. der EEG-Anlage  \\\n",
       "659         SEL906076820743          EEG978465477791   \n",
       "692         SEL946731324988          EEG991676277172   \n",
       "1723        SEL922723062670          EEG982010703075   \n",
       "2376        SEL987469303029          EEG958291400330   \n",
       "2435        SEL986931157221          EEG910243035779   \n",
       "\n",
       "                   EEG-Anlagenschlüssel Inbetriebnahmedatum der EEG-Anlage  \\\n",
       "659   E108490105E0000000000000071100001                           7/7/2016   \n",
       "692   E10883010831573598000000000000613                          5/31/2016   \n",
       "1723  E21762010005479647601000000100325                           8/8/2016   \n",
       "2376  E11904010516022680003000S00000003                         10/31/2016   \n",
       "2435  E20241012013120131191100000000003                          7/14/2016   \n",
       "\n",
       "     Installierte Leistung  Zuschlagnummer (EEG/KWK-Ausschreibung)  \\\n",
       "659                  40,56                                     NaN   \n",
       "692                2636,95                                     NaN   \n",
       "1723                1497,6                                     NaN   \n",
       "2376                 95,16                                     NaN   \n",
       "2435                  3758                            FFA15-2/101,   \n",
       "\n",
       "     MaStR-Nr. der KWK-Anlage Inbetriebnahmedatum der KWK-Anlage  \\\n",
       "659                       NaN                                NaN   \n",
       "692                       NaN                                NaN   \n",
       "1723                      NaN                                NaN   \n",
       "2376                      NaN                                NaN   \n",
       "2435                      NaN                                NaN   \n",
       "\n",
       "      Elektrische KWK-Leistung Thermische Nutzleistung in kW  \n",
       "659                        NaN                           NaN  \n",
       "692                        NaN                           NaN  \n",
       "1723                       NaN                           NaN  \n",
       "2376                       NaN                           NaN  \n",
       "2435                       NaN                           NaN  \n",
       "\n",
       "[5 rows x 50 columns]"
      ]
     },
     "execution_count": 109,
     "metadata": {},
     "output_type": "execute_result"
    }
   ],
   "source": [
    "df_Solare.head()"
   ]
  },
  {
   "cell_type": "code",
   "execution_count": null,
   "id": "7d3e74fe-a6b0-4bf9-854c-252ed8731edc",
   "metadata": {},
   "outputs": [],
   "source": []
  }
 ],
 "metadata": {
  "kernelspec": {
   "display_name": "Python 3 (ipykernel)",
   "language": "python",
   "name": "python3"
  },
  "language_info": {
   "codemirror_mode": {
    "name": "ipython",
    "version": 3
   },
   "file_extension": ".py",
   "mimetype": "text/x-python",
   "name": "python",
   "nbconvert_exporter": "python",
   "pygments_lexer": "ipython3",
   "version": "3.9.7"
  }
 },
 "nbformat": 4,
 "nbformat_minor": 5
}
