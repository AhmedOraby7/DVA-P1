{
 "cells": [
  {
   "cell_type": "code",
   "execution_count": 1,
   "id": "dba05fc8",
   "metadata": {},
   "outputs": [],
   "source": [
    "import pandas as pd\n",
    "import geopandas as gpd\n",
    "import contextily as cx\n",
    "import numpy as np\n",
    "import matplotlib.pyplot as plt\n",
    "import seaborn as sns\n"
   ]
  },
  {
   "cell_type": "code",
   "execution_count": 2,
   "id": "a1e9158e",
   "metadata": {},
   "outputs": [],
   "source": [
    "# Energy_Source -> Same across all the dataset\n",
    "# manufacturer_of_the_wind_turbine -> NAN across all the dataset\n",
    "# designation_type -> Same\n",
    "# main_fuel_of_the_unit -> Same\n",
    "# usable_storage_capacity_kwh -> Same\n",
    "# technology_of_power_generation -> Same\n",
    "# location_of_the_unit -> Freifläche Across all records.\n",
    "# thermal_net_power_kw -> NAN\n",
    "# electrical_cogeneration_power -> NAN\n",
    "# chp_plant_commissioning_date -> NAN\n",
    "# mastr_number_the_chp_plant -> NAN\n",
    "# wind_farm_name -> Nan\n",
    "# hub_height_of_the_wind_turbine -> Nan\n",
    "# rotor_diameter_of_the_wind_turbine -> Nan"
   ]
  },
  {
   "cell_type": "code",
   "execution_count": 3,
   "id": "fec055e5",
   "metadata": {},
   "outputs": [],
   "source": [
    "df = pd.read_csv('english_df.csv', delimiter=\",\")\n",
    "\n",
    "df.drop(columns=[df.columns[0], \"energy_sources\", \"manufacturer_of_the_wind_turbine\"], axis=1, inplace=True)\n",
    "df.rename(columns={'full feed or partial feed': 'full_feed_or_partial_feed' , \"mastr_number_the location\": \"mastr_number_the_location\"}, inplace=True)\n"
   ]
  },
  {
   "cell_type": "code",
   "execution_count": 4,
   "id": "fee315a2",
   "metadata": {},
   "outputs": [
    {
     "data": {
      "text/html": [
       "<div>\n",
       "<style scoped>\n",
       "    .dataframe tbody tr th:only-of-type {\n",
       "        vertical-align: middle;\n",
       "    }\n",
       "\n",
       "    .dataframe tbody tr th {\n",
       "        vertical-align: top;\n",
       "    }\n",
       "\n",
       "    .dataframe thead th {\n",
       "        text-align: right;\n",
       "    }\n",
       "</style>\n",
       "<table border=\"1\" class=\"dataframe\">\n",
       "  <thead>\n",
       "    <tr style=\"text-align: right;\">\n",
       "      <th></th>\n",
       "      <th>mastr_number_of_theunit</th>\n",
       "      <th>unit_name</th>\n",
       "      <th>operational_status</th>\n",
       "      <th>gross_power</th>\n",
       "      <th>net_power</th>\n",
       "      <th>commissioning_date</th>\n",
       "      <th>registration_date</th>\n",
       "      <th>state</th>\n",
       "      <th>postal_code</th>\n",
       "      <th>location</th>\n",
       "      <th>...</th>\n",
       "      <th>mastr_number_the_location</th>\n",
       "      <th>mastr_number_the eeg system</th>\n",
       "      <th>eeg_system_key</th>\n",
       "      <th>eeg system_commissioning_date</th>\n",
       "      <th>installed_capacity</th>\n",
       "      <th>surcharge_number</th>\n",
       "      <th>mastr_number_the_chp_plant</th>\n",
       "      <th>chp_plant_commissioning_date</th>\n",
       "      <th>electrical_cogeneration_power</th>\n",
       "      <th>thermal_net_power_kw</th>\n",
       "    </tr>\n",
       "  </thead>\n",
       "  <tbody>\n",
       "    <tr>\n",
       "      <th>0</th>\n",
       "      <td>SEE925446927554</td>\n",
       "      <td>Solar Mover Erlasee</td>\n",
       "      <td>In Betrieb</td>\n",
       "      <td>9,034</td>\n",
       "      <td>9,034</td>\n",
       "      <td>7/1/2005</td>\n",
       "      <td>1/31/2019</td>\n",
       "      <td>Bayern</td>\n",
       "      <td>97450</td>\n",
       "      <td>Arnstein</td>\n",
       "      <td>...</td>\n",
       "      <td>SEL940958932889</td>\n",
       "      <td>EEG958469144820</td>\n",
       "      <td>E21875011000000000000358198600000</td>\n",
       "      <td>7/1/2005</td>\n",
       "      <td>9,034</td>\n",
       "      <td>NaN</td>\n",
       "      <td>NaN</td>\n",
       "      <td>NaN</td>\n",
       "      <td>NaN</td>\n",
       "      <td>NaN</td>\n",
       "    </tr>\n",
       "    <tr>\n",
       "      <th>1</th>\n",
       "      <td>SEE960426755222</td>\n",
       "      <td>Photovoltaikanlage Wachenroth</td>\n",
       "      <td>In Betrieb</td>\n",
       "      <td>749,52</td>\n",
       "      <td>660</td>\n",
       "      <td>1/30/2019</td>\n",
       "      <td>1/31/2019</td>\n",
       "      <td>Bayern</td>\n",
       "      <td>96193</td>\n",
       "      <td>Wachenroth</td>\n",
       "      <td>...</td>\n",
       "      <td>SEL967701874609</td>\n",
       "      <td>EEG908722130251</td>\n",
       "      <td>NaN</td>\n",
       "      <td>1/30/2019</td>\n",
       "      <td>749,52</td>\n",
       "      <td>NaN</td>\n",
       "      <td>NaN</td>\n",
       "      <td>NaN</td>\n",
       "      <td>NaN</td>\n",
       "      <td>NaN</td>\n",
       "    </tr>\n",
       "    <tr>\n",
       "      <th>2</th>\n",
       "      <td>SEE952083574476</td>\n",
       "      <td>Photovoltaikanlage Neudorf-Dietenhofen</td>\n",
       "      <td>In Betrieb</td>\n",
       "      <td>9999</td>\n",
       "      <td>8340</td>\n",
       "      <td>12/31/2018</td>\n",
       "      <td>2/1/2019</td>\n",
       "      <td>Bayern</td>\n",
       "      <td>90599</td>\n",
       "      <td>Dietenhofen</td>\n",
       "      <td>...</td>\n",
       "      <td>SEL938656837278</td>\n",
       "      <td>EEG975337639158</td>\n",
       "      <td>NaN</td>\n",
       "      <td>12/31/2018</td>\n",
       "      <td>9999</td>\n",
       "      <td>SOL18-2/011,</td>\n",
       "      <td>NaN</td>\n",
       "      <td>NaN</td>\n",
       "      <td>NaN</td>\n",
       "      <td>NaN</td>\n",
       "    </tr>\n",
       "    <tr>\n",
       "      <th>3</th>\n",
       "      <td>SEE979267138712</td>\n",
       "      <td>Freiland</td>\n",
       "      <td>In Betrieb</td>\n",
       "      <td>312,48</td>\n",
       "      <td>312,48</td>\n",
       "      <td>1/23/2019</td>\n",
       "      <td>2/1/2019</td>\n",
       "      <td>Bayern</td>\n",
       "      <td>95213</td>\n",
       "      <td>Münchberg</td>\n",
       "      <td>...</td>\n",
       "      <td>SEL986405434773</td>\n",
       "      <td>EEG982325712236</td>\n",
       "      <td>E20716010100001301115000PVE400001</td>\n",
       "      <td>1/23/2019</td>\n",
       "      <td>312,48</td>\n",
       "      <td>NaN</td>\n",
       "      <td>NaN</td>\n",
       "      <td>NaN</td>\n",
       "      <td>NaN</td>\n",
       "      <td>NaN</td>\n",
       "    </tr>\n",
       "    <tr>\n",
       "      <th>4</th>\n",
       "      <td>SEE946836147048</td>\n",
       "      <td>Mover 1491 Erlasee</td>\n",
       "      <td>In Betrieb</td>\n",
       "      <td>8,976</td>\n",
       "      <td>8,976</td>\n",
       "      <td>8/1/2006</td>\n",
       "      <td>3/9/2019</td>\n",
       "      <td>Bayern</td>\n",
       "      <td>97450</td>\n",
       "      <td>Arnstein</td>\n",
       "      <td>...</td>\n",
       "      <td>SEL970291620037</td>\n",
       "      <td>EEG999891816398</td>\n",
       "      <td>E21875011000000000000361725600000</td>\n",
       "      <td>8/1/2006</td>\n",
       "      <td>8,976</td>\n",
       "      <td>NaN</td>\n",
       "      <td>NaN</td>\n",
       "      <td>NaN</td>\n",
       "      <td>NaN</td>\n",
       "      <td>NaN</td>\n",
       "    </tr>\n",
       "  </tbody>\n",
       "</table>\n",
       "<p>5 rows × 48 columns</p>\n",
       "</div>"
      ],
      "text/plain": [
       "  mastr_number_of_theunit                               unit_name  \\\n",
       "0         SEE925446927554                     Solar Mover Erlasee   \n",
       "1         SEE960426755222           Photovoltaikanlage Wachenroth   \n",
       "2         SEE952083574476  Photovoltaikanlage Neudorf-Dietenhofen   \n",
       "3         SEE979267138712                                Freiland   \n",
       "4         SEE946836147048                      Mover 1491 Erlasee   \n",
       "\n",
       "  operational_status gross_power net_power commissioning_date  \\\n",
       "0         In Betrieb       9,034     9,034           7/1/2005   \n",
       "1         In Betrieb      749,52       660          1/30/2019   \n",
       "2         In Betrieb        9999      8340         12/31/2018   \n",
       "3         In Betrieb      312,48    312,48          1/23/2019   \n",
       "4         In Betrieb       8,976     8,976           8/1/2006   \n",
       "\n",
       "  registration_date   state  postal_code     location  ...  \\\n",
       "0         1/31/2019  Bayern        97450     Arnstein  ...   \n",
       "1         1/31/2019  Bayern        96193   Wachenroth  ...   \n",
       "2          2/1/2019  Bayern        90599  Dietenhofen  ...   \n",
       "3          2/1/2019  Bayern        95213    Münchberg  ...   \n",
       "4          3/9/2019  Bayern        97450     Arnstein  ...   \n",
       "\n",
       "  mastr_number_the_location mastr_number_the eeg system  \\\n",
       "0           SEL940958932889             EEG958469144820   \n",
       "1           SEL967701874609             EEG908722130251   \n",
       "2           SEL938656837278             EEG975337639158   \n",
       "3           SEL986405434773             EEG982325712236   \n",
       "4           SEL970291620037             EEG999891816398   \n",
       "\n",
       "                      eeg_system_key eeg system_commissioning_date  \\\n",
       "0  E21875011000000000000358198600000                      7/1/2005   \n",
       "1                                NaN                     1/30/2019   \n",
       "2                                NaN                    12/31/2018   \n",
       "3  E20716010100001301115000PVE400001                     1/23/2019   \n",
       "4  E21875011000000000000361725600000                      8/1/2006   \n",
       "\n",
       "   installed_capacity surcharge_number mastr_number_the_chp_plant  \\\n",
       "0               9,034              NaN                        NaN   \n",
       "1              749,52              NaN                        NaN   \n",
       "2                9999     SOL18-2/011,                        NaN   \n",
       "3              312,48              NaN                        NaN   \n",
       "4               8,976              NaN                        NaN   \n",
       "\n",
       "   chp_plant_commissioning_date electrical_cogeneration_power  \\\n",
       "0                           NaN                           NaN   \n",
       "1                           NaN                           NaN   \n",
       "2                           NaN                           NaN   \n",
       "3                           NaN                           NaN   \n",
       "4                           NaN                           NaN   \n",
       "\n",
       "   thermal_net_power_kw  \n",
       "0                   NaN  \n",
       "1                   NaN  \n",
       "2                   NaN  \n",
       "3                   NaN  \n",
       "4                   NaN  \n",
       "\n",
       "[5 rows x 48 columns]"
      ]
     },
     "execution_count": 4,
     "metadata": {},
     "output_type": "execute_result"
    }
   ],
   "source": [
    "df.head()"
   ]
  },
  {
   "cell_type": "code",
   "execution_count": 5,
   "id": "7c41950c",
   "metadata": {},
   "outputs": [],
   "source": [
    "def convert_column_data_type(dataframe, column_type, column_names=[]):\n",
    "    for column in column_names: \n",
    "        dataframe[column] = dataframe[column].str.replace(',','.').astype(column_type)\n",
    "    return dataframe"
   ]
  },
  {
   "cell_type": "code",
   "execution_count": 6,
   "id": "9226600e",
   "metadata": {},
   "outputs": [],
   "source": [
    "def get_columns_from_df(dataframe, column_names=[]):\n",
    "    return dataframe[column_names]"
   ]
  },
  {
   "cell_type": "code",
   "execution_count": 7,
   "id": "16726079",
   "metadata": {},
   "outputs": [],
   "source": [
    "# Convert gross power to float.\n",
    "columns_to_convert = [\"gross_power\", \"net_power\", \"installed_capacity\", \"longitude\", \"latitude\"]\n",
    "df = convert_column_data_type(df, \"float\", columns_to_convert)\n"
   ]
  },
  {
   "cell_type": "code",
   "execution_count": 8,
   "id": "fae91179",
   "metadata": {},
   "outputs": [
    {
     "data": {
      "text/plain": [
       "mastr_number_of_theunit                                                   SEE965372808428\n",
       "unit_name                                                                   Erlasee Mover\n",
       "operational_status                                                             In Betrieb\n",
       "gross_power                                                                         9.344\n",
       "net_power                                                                           9.344\n",
       "commissioning_date                                                             12/30/2005\n",
       "registration_date                                                                7/1/2019\n",
       "state                                                                              Bayern\n",
       "postal_code                                                                         97450\n",
       "location                                                                         Arnstein\n",
       "street                                                                                NaN\n",
       "house_number                                                                          NaN\n",
       "district                                                                              NaN\n",
       "parcel                                                                                NaN\n",
       "community_key                                                                     9677114\n",
       "latitude                                                                              NaN\n",
       "longitude                                                                             NaN\n",
       "number_of_solar_modules                                                              12.0\n",
       "main_orientation_of_solar_modules                                                     Süd\n",
       "wind_farm_name                                                                        NaN\n",
       "hub_height_of_the_wind_turbine                                                        NaN\n",
       "rotor_diameter_of_the_wind_turbine                                                    NaN\n",
       "designation_type                                                                      NaN\n",
       "main_fuel_of_the_unit                                                                 NaN\n",
       "usable_storage_capacity_kwh                                                           NaN\n",
       "technology_of_power_generation                                                        NaN\n",
       "location_of_the_unit                                                           Freifläche\n",
       "last_update                                                                      7/1/2019\n",
       "final_decommissioning_date                                                            NaN\n",
       "date_of_planned_commissioning                                                         NaN\n",
       "name_of_the_plant_operator                            natürliche Person (ABR927109568142)\n",
       "mastr_number_of_the plant operator                                        ABR927109568142\n",
       "full_feed_or_partial_feed                                                 Volleinspeisung\n",
       "mastr_number_of_approval                                                              NaN\n",
       "connection_network_operator_name                   Bayernwerk Netz GmbH (SNB940352624434)\n",
       "mastr_number_of_the_connection_network_operator                           SNB940352624434\n",
       "network_operator_check                                                            Geprüft\n",
       "voltage_level                                                              Mittelspannung\n",
       "mastr_number_the_location                                                 SEL939276029531\n",
       "mastr_number_the eeg system                                               EEG933932332492\n",
       "eeg_system_key                                          E21875011000000000000358748900000\n",
       "eeg system_commissioning_date                                                  12/30/2005\n",
       "installed_capacity                                                                  9.344\n",
       "surcharge_number                                                                      NaN\n",
       "mastr_number_the_chp_plant                                                            NaN\n",
       "chp_plant_commissioning_date                                                          NaN\n",
       "electrical_cogeneration_power                                                         NaN\n",
       "thermal_net_power_kw                                                                  NaN\n",
       "Name: 1000, dtype: object"
      ]
     },
     "execution_count": 8,
     "metadata": {},
     "output_type": "execute_result"
    }
   ],
   "source": [
    "df.iloc[1000]"
   ]
  },
  {
   "cell_type": "code",
   "execution_count": 9,
   "id": "9f69d36d",
   "metadata": {},
   "outputs": [],
   "source": [
    "cleaned_data_columns = [\n",
    "    \"unit_name\",\n",
    "    \"gross_power\",\n",
    "    \"net_power\",\n",
    "    \"location\",\n",
    "    \"installed_capacity\",\n",
    "    \"operational_status\",\n",
    "    \"number_of_solar_modules\",\n",
    "    \"registration_date\",\n",
    "    \"date_of_planned_commissioning\",\n",
    "    \"commissioning_date\",\n",
    "    \"final_decommissioning_date\",\n",
    "    \"last_update\",\n",
    "    \"state\",\n",
    "    \"network_operator_check\",\n",
    "    \"name_of_the_plant_operator\",\n",
    "    \"mastr_number_the_location\",\n",
    "    \"eeg_system_key\",\n",
    "    \"surcharge_number\", \n",
    "    \"voltage_level\",\n",
    "    \"connection_network_operator_name\",\n",
    "    \"full_feed_or_partial_feed\",\n",
    "    \"main_orientation_of_solar_modules\",\n",
    "    \"postal_code\",\n",
    "    \"longitude\",\n",
    "    \"latitude\"\n",
    "]\n",
    "cleaned_data_df = get_columns_from_df(df, cleaned_data_columns)\n"
   ]
  },
  {
   "cell_type": "code",
   "execution_count": 11,
   "id": "4481a168",
   "metadata": {},
   "outputs": [
    {
     "data": {
      "text/html": [
       "<div>\n",
       "<style scoped>\n",
       "    .dataframe tbody tr th:only-of-type {\n",
       "        vertical-align: middle;\n",
       "    }\n",
       "\n",
       "    .dataframe tbody tr th {\n",
       "        vertical-align: top;\n",
       "    }\n",
       "\n",
       "    .dataframe thead th {\n",
       "        text-align: right;\n",
       "    }\n",
       "</style>\n",
       "<table border=\"1\" class=\"dataframe\">\n",
       "  <thead>\n",
       "    <tr style=\"text-align: right;\">\n",
       "      <th></th>\n",
       "      <th>state</th>\n",
       "      <th>gross_power</th>\n",
       "    </tr>\n",
       "  </thead>\n",
       "  <tbody>\n",
       "    <tr>\n",
       "      <th>0</th>\n",
       "      <td>Baden-Württemberg</td>\n",
       "      <td>755542.185</td>\n",
       "    </tr>\n",
       "    <tr>\n",
       "      <th>1</th>\n",
       "      <td>Bayern</td>\n",
       "      <td>6591548.146</td>\n",
       "    </tr>\n",
       "  </tbody>\n",
       "</table>\n",
       "</div>"
      ],
      "text/plain": [
       "               state  gross_power\n",
       "0  Baden-Württemberg   755542.185\n",
       "1             Bayern  6591548.146"
      ]
     },
     "execution_count": 11,
     "metadata": {},
     "output_type": "execute_result"
    }
   ],
   "source": [
    "sum_power_for_each_state = cleaned_data_df.groupby([\"state\"])[\"gross_power\"].sum().reset_index()\n",
    "sum_power_for_each_state"
   ]
  },
  {
   "cell_type": "markdown",
   "id": "b67287e7",
   "metadata": {},
   "source": [
    "### Power Analysis"
   ]
  },
  {
   "cell_type": "code",
   "execution_count": 12,
   "id": "6431d7ff",
   "metadata": {},
   "outputs": [
    {
     "data": {
      "text/plain": [
       "array(['Bayern', 'Baden-Württemberg'], dtype=object)"
      ]
     },
     "execution_count": 12,
     "metadata": {},
     "output_type": "execute_result"
    }
   ],
   "source": [
    "cleaned_data_df[\"state\"].unique()\n"
   ]
  },
  {
   "cell_type": "markdown",
   "id": "41b68ac4",
   "metadata": {},
   "source": [
    "#### - Sum Power Across Each State"
   ]
  },
  {
   "cell_type": "code",
   "execution_count": 13,
   "id": "7f94f07b",
   "metadata": {},
   "outputs": [
    {
     "data": {
      "image/png": "[encoded data removed]",
      "text/plain": [
       "<Figure size 400x300 with 1 Axes>"
      ]
     },
     "metadata": {},
     "output_type": "display_data"
    }
   ],
   "source": [
    "plt.figure(figsize=(4,3))\n",
    "sns.barplot(x='state', y='gross_power', data=cleaned_data_df, ci=None, estimator=sum)\n",
    "plt.show()"
   ]
  },
  {
   "cell_type": "markdown",
   "id": "ef3a179f",
   "metadata": {},
   "source": [
    "#### - Top 5 Location to consume Energy in each state"
   ]
  },
  {
   "cell_type": "code",
   "execution_count": 14,
   "id": "5bdbf667",
   "metadata": {},
   "outputs": [],
   "source": [
    "# bayern_state = cleaned_data_df[cleaned_data_df[\"state\"] == \"Bayern\"]\n",
    "top_locations = cleaned_data_df[cleaned_data_df[\"state\"] == \"Bayern\"].groupby([\"location\"])[\"gross_power\"].sum().reset_index()\n",
    "top_locations = top_locations.sort_values([\"gross_power\"], ascending=False)\n",
    "top_ten_bayern = top_locations[:10]"
   ]
  },
  {
   "cell_type": "code",
   "execution_count": 15,
   "id": "9332af2e",
   "metadata": {},
   "outputs": [
    {
     "data": {
      "text/plain": [
       "<AxesSubplot:xlabel='location', ylabel='gross_power'>"
      ]
     },
     "execution_count": 15,
     "metadata": {},
     "output_type": "execute_result"
    },
    {
     "data": {
      "image/png": "[encoded data removed]",
      "text/plain": [
       "<Figure size 1300x300 with 1 Axes>"
      ]
     },
     "metadata": {},
     "output_type": "display_data"
    }
   ],
   "source": [
    "plt.figure(figsize=(13,3))\n",
    "sns.barplot(x='location', y='gross_power', data=top_ten_bayern, ci=None)"
   ]
  },
  {
   "cell_type": "code",
   "execution_count": 16,
   "id": "ee665004",
   "metadata": {},
   "outputs": [],
   "source": [
    "top_locations = cleaned_data_df[cleaned_data_df[\"state\"] == \"Baden-Württemberg\"].groupby(\n",
    "    [\"location\"]\n",
    ")[\"gross_power\"].sum().reset_index()\n",
    "top_locations = top_locations.sort_values([\"gross_power\"], ascending=False)\n",
    "top_ten_baden = top_locations[:10]"
   ]
  },
  {
   "cell_type": "code",
   "execution_count": 17,
   "id": "1edc9164",
   "metadata": {},
   "outputs": [
    {
     "data": {
      "text/plain": [
       "<AxesSubplot:xlabel='location', ylabel='gross_power'>"
      ]
     },
     "execution_count": 17,
     "metadata": {},
     "output_type": "execute_result"
    },
    {
     "data": {
      "image/png": "[encoded data removed]",
      "text/plain": [
       "<Figure size 1300x300 with 1 Axes>"
      ]
     },
     "metadata": {},
     "output_type": "display_data"
    }
   ],
   "source": [
    "plt.figure(figsize=(13,3))\n",
    "sns.barplot(x='location', y='gross_power', data=top_ten_baden, ci=None)"
   ]
  },
  {
   "cell_type": "markdown",
   "id": "186e2840",
   "metadata": {},
   "source": [
    "### GeoPandas"
   ]
  },
  {
   "cell_type": "code",
   "execution_count": null,
   "id": "3f2b810c",
   "metadata": {},
   "outputs": [],
   "source": [
    "df.dropna(subset=['latitude', 'longitude'])"
   ]
  },
  {
   "cell_type": "code",
   "execution_count": null,
   "id": "513f9960",
   "metadata": {},
   "outputs": [],
   "source": [
    "fp = \"geomap/vg2500_bld.shp\"\n",
    "map_df = gpd.read_file(fp)\n",
    "map_df.plot()"
   ]
  },
  {
   "cell_type": "code",
   "execution_count": null,
   "id": "564173be",
   "metadata": {},
   "outputs": [],
   "source": [
    "fig, ax = plt.subplots(1, figsize=(10, 6))\n",
    "map_df['coords'] = map_df['geometry'].apply(lambda x: x.representative_point().coords[:])\n",
    "map_df['coords'] = [coords[0] for coords in map_df['coords']]\n",
    "map_df.plot(ax=ax)\n",
    "for idx, row in map_df.iterrows():\n",
    "    if row['GEN'] == \"Baden-Württemberg\" or row['GEN'] == \"Bayern\":\n",
    "        plt.annotate(s=row['GEN'], xy=row['coords'], horizontalalignment='center')\n",
    "        plt.xticks(np.array([]))\n",
    "        plt.yticks(np.array([]))"
   ]
  },
  {
   "cell_type": "code",
   "execution_count": null,
   "id": "c9557409",
   "metadata": {},
   "outputs": [],
   "source": [
    "map_df.head()"
   ]
  },
  {
   "cell_type": "code",
   "execution_count": null,
   "id": "6080a5ae",
   "metadata": {},
   "outputs": [],
   "source": [
    "# Merge dataset with only our states\n",
    "\n",
    "merged_gdf = map_df.set_index('GEN').join(cleaned_data_df.set_index('state'))\n",
    "\n",
    "merged_gdf"
   ]
  },
  {
   "cell_type": "code",
   "execution_count": null,
   "id": "2db9f0ea",
   "metadata": {},
   "outputs": [],
   "source": [
    "aggregated_gross_power = cleaned_data_df.groupby('state')['gross_power'].sum() / 1000000"
   ]
  },
  {
   "cell_type": "code",
   "execution_count": null,
   "id": "542b3e0b",
   "metadata": {},
   "outputs": [],
   "source": [
    "geo_df_for_power_analysis = pd.DataFrame(merged_gdf['geometry'].apply(lambda x: x.representative_point().coords[:]))\n",
    "#geo_df_for_power_analysis = [coords[0] for coords in merged_gdf['coords']]\n",
    "\n",
    "\n"
   ]
  },
  {
   "cell_type": "code",
   "execution_count": null,
   "id": "429fc548",
   "metadata": {},
   "outputs": [],
   "source": [
    "geo_df_for_power_analysis"
   ]
  },
  {
   "cell_type": "code",
   "execution_count": null,
   "id": "94d9a54a",
   "metadata": {},
   "outputs": [],
   "source": [
    "column = cleaned_data_df['gross_power']\n",
    "max_power = column.max()\n",
    "vmin, vmax = 0, max_power\n",
    "merged_gdf['coords'] = merged_gdf['geometry'].apply(lambda x: x.representative_point().coords[:])\n",
    "merged_gdf['coords'] = [coords[0] for coords in merged_gdf['coords']]\n",
    "# create figure and axes for Matplotlib\n",
    "fig, ax = plt.subplots(1, figsize=(10, 6))\n",
    "merged_gdf.plot(column='gross_power', cmap='YlOrRd', linewidth=0.8, ax=ax, edgecolor='0.8')\n",
    "for idx, row in merged_gdf.iterrows():\n",
    "\n",
    "    plt.annotate(s=row['gross_power'], xy=row['coords'],\n",
    "    horizontalalignment='center',fontsize=8)\n",
    "    # remove the axis\n",
    "    ax.axis('off')\n",
    "    # add a title\n",
    "    ax.set_title('Gross power generated for each state', \\\n",
    "    fontdict={'fontsize': '18',\n",
    "    'fontweight' : '3'})\n",
    "    sm = plt.cm.ScalarMappable(cmap='YlOrRd', norm=plt.Normalize(vmin=vmin, vmax=vmax))\n",
    "    sm._A = []\n",
    "    cbar = fig.colorbar(sm)\n",
    "    fig.savefig('testmap_1.png', dpi=300)"
   ]
  },
  {
   "cell_type": "code",
   "execution_count": null,
   "id": "733b7491",
   "metadata": {},
   "outputs": [],
   "source": []
  }
 ],
 "metadata": {
  "kernelspec": {
   "display_name": "Python 3 (ipykernel)",
   "language": "python",
   "name": "python3"
  },
  "language_info": {
   "codemirror_mode": {
    "name": "ipython",
    "version": 3
   },
   "file_extension": ".py",
   "mimetype": "text/x-python",
   "name": "python",
   "nbconvert_exporter": "python",
   "pygments_lexer": "ipython3",
   "version": "3.9.13"
  }
 },
 "nbformat": 4,
 "nbformat_minor": 5
}
